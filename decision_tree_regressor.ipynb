{
 "cells": [
  {
   "cell_type": "markdown",
   "metadata": {},
   "source": [
    "# Decision Tree Regressor from Scratch"
   ]
  },
  {
   "cell_type": "code",
   "execution_count": 46,
   "metadata": {},
   "outputs": [],
   "source": [
    "from random import seed\n",
    "from math import log\n",
    "from statistics import mode\n",
    "from random import randrange\n",
    "from csv import reader\n",
    "import numpy as np\n",
    "import matplotlib.pyplot as plt"
   ]
  },
  {
   "cell_type": "markdown",
   "metadata": {},
   "source": [
    "## Create dataset"
   ]
  },
  {
   "cell_type": "code",
   "execution_count": 47,
   "metadata": {},
   "outputs": [],
   "source": [
    "dataset = [[2.771244718, 1.784783929, 0],\n",
    "           [1.728571309, 1.169761413, 0.1],\n",
    "           [3.678319846, 2.81281357, 0.2],\n",
    "           [3.961043357, 2.61995032, -0.1],\n",
    "           [2.999208922, 2.209014212, 0.3],\n",
    "           [7.497545867, 3.162953546, 1.1],\n",
    "           [9.00220326, 3.339047188, 1.2],\n",
    "           [7.444542326, 0.476683375, 1.9],\n",
    "           [10.12493903, 3.234550982, 0.9],\n",
    "           [6.642287351, 3.319983761, 1.6]]"
   ]
  },
  {
   "cell_type": "markdown",
   "metadata": {},
   "source": [
    "## Choose best splits using heuristic Funtion: Gini index and Cross-Entropy"
   ]
  },
  {
   "cell_type": "code",
   "execution_count": 48,
   "metadata": {},
   "outputs": [
    {
     "name": "stdout",
     "output_type": "stream",
     "text": [
      "0.4714045207910317\n",
      "0.4444444444444444\n"
     ]
    }
   ],
   "source": [
    "def split_criteria(y, criteria = 'std'):\n",
    "    \"\"\"\n",
    "    split_criteria([1,2,3,4,3], 'std') = std([1,2,3,4,3])\n",
    "    \"\"\"\n",
    "    if criteria == 'std':\n",
    "        if len(y) == 0: return 0\n",
    "        return np.std(y)\n",
    "    if criteria == 'mae':\n",
    "        u = np.mean(y)\n",
    "        return np.mean(np.abs(u - y))\n",
    "\n",
    "group_targets = [[1,2,1],[1,1,2]]\n",
    "s1, s2 = group_targets\n",
    "print(split_criteria(s1, 'std'))\n",
    "print(split_criteria(s1, 'mae'))"
   ]
  },
  {
   "cell_type": "code",
   "execution_count": 49,
   "metadata": {},
   "outputs": [],
   "source": [
    "def test_split(index, value, dataset):\n",
    "    \"\"\"\n",
    "    Split a dataset based on an attribute and an attribute value.\n",
    "    Complexity: O(#rows)\n",
    "    \"\"\"\n",
    "    left, right = list(), list()\n",
    "    for row in dataset:\n",
    "        if row[index] < value:\n",
    "            left.append(row)\n",
    "        else:\n",
    "            right.append(row)\n",
    "    return left, right"
   ]
  },
  {
   "cell_type": "code",
   "execution_count": 50,
   "metadata": {},
   "outputs": [
    {
     "data": {
      "text/plain": [
       "{'attribute': 0,\n",
       " 'value': 6.642287351,\n",
       " 'groups': ([[2.771244718, 1.784783929, 0],\n",
       "   [1.728571309, 1.169761413, 0.1],\n",
       "   [3.678319846, 2.81281357, 0.2],\n",
       "   [3.961043357, 2.61995032, -0.1],\n",
       "   [2.999208922, 2.209014212, 0.3]],\n",
       "  [[7.497545867, 3.162953546, 1.1],\n",
       "   [9.00220326, 3.339047188, 1.2],\n",
       "   [7.444542326, 0.476683375, 1.9],\n",
       "   [10.12493903, 3.234550982, 0.9],\n",
       "   [6.642287351, 3.319983761, 1.6]])}"
      ]
     },
     "execution_count": 50,
     "metadata": {},
     "output_type": "execute_result"
    }
   ],
   "source": [
    "def get_split(dataset, criteria):\n",
    "    \"\"\"\n",
    "    This heuristic algorithm loops all rows (samples) and column (attributes), thus it is painful for computing.\n",
    "    Complexity: O(#rows^2 x #columns) x O(gini_index)\n",
    "    \"\"\"\n",
    "    attributes = len(dataset[0]) - 1\n",
    "    retAttribute, retValue, retGroups, min_loss = None, None, None, 999\n",
    "    for row in dataset:\n",
    "        for attribute in range(attributes):\n",
    "            group_left, group_right = test_split(attribute, row[attribute], dataset)\n",
    "#             group_left, group_right = groups\n",
    "            target_left = [row[-1] for row in group_left]\n",
    "            target_right = [row[-1] for row in group_right]\n",
    "\n",
    "            total = len(target_left) + len(target_right)\n",
    "            pL = len(target_left) / total\n",
    "            \n",
    "            loss =  pL * split_criteria(target_left, criteria) + (1 - pL) * split_criteria(target_right, criteria)\n",
    "            if loss < min_loss:\n",
    "                min_loss = loss\n",
    "                retAttribute, retValue, retGroups = attribute, row[attribute], (group_left, group_right)\n",
    "    return {'attribute': retAttribute, 'value': retValue, 'groups': retGroups}\n",
    "\n",
    "get_split(dataset, 'std')\n"
   ]
  },
  {
   "cell_type": "code",
   "execution_count": 51,
   "metadata": {},
   "outputs": [
    {
     "data": {
      "text/plain": [
       "0.6666666666666666"
      ]
     },
     "execution_count": 51,
     "metadata": {},
     "output_type": "execute_result"
    }
   ],
   "source": [
    "def to_terminal(group):\n",
    "    assert group, 'group should not be empty'\n",
    "    outcomes = [row[-1] for row in group]\n",
    "    return np.mean(outcomes)  # mean of predictions\n",
    "    \n",
    "group = [[1, 2, 0], [1, 2, 1], [1, 2, 1]]\n",
    "to_terminal(group)\n"
   ]
  },
  {
   "cell_type": "code",
   "execution_count": 52,
   "metadata": {},
   "outputs": [],
   "source": [
    "def split(node, max_depth, min_size, depth, criteria):\n",
    "    left, right = node['groups']\n",
    "    del(node['groups'])\n",
    "    # check for a no split\n",
    "    if not left or not right:  # left or right is empty list\n",
    "        node['left'] = node['right'] = to_terminal(left + right)\n",
    "        return\n",
    "    # check for max depth\n",
    "    if depth >= max_depth:\n",
    "        node['left'], node['right'] = to_terminal(left), to_terminal(right)\n",
    "        return\n",
    "    # process left child\n",
    "    if len(left) <= min_size:\n",
    "        node['left'] = to_terminal(left)\n",
    "    else:\n",
    "        node['left'] = get_split(left, criteria)\n",
    "        split(node['left'], max_depth, min_size, depth+1, criteria)\n",
    "    # process right child\n",
    "    if len(right) <= min_size:\n",
    "        node['right'] = to_terminal(right)\n",
    "    else:\n",
    "        node['right'] = get_split(right, criteria)\n",
    "        split(node['right'], max_depth, min_size, depth+1, criteria)\n"
   ]
  },
  {
   "cell_type": "markdown",
   "metadata": {},
   "source": [
    "## Build a decision tree"
   ]
  },
  {
   "cell_type": "code",
   "execution_count": 53,
   "metadata": {},
   "outputs": [
    {
     "name": "stdout",
     "output_type": "stream",
     "text": [
      "[X1 < 6.642]\n",
      "--[X1 < 3.961]\n",
      "----[X1 < 2.999]\n",
      "------[0.05]\n",
      "------[0.25]\n",
      "----[-0.1]\n",
      "--[X1 < 7.498]\n",
      "----[X1 < 7.445]\n",
      "------[1.6]\n",
      "------[1.9]\n",
      "----[X1 < 10.125]\n",
      "------[1.15]\n",
      "------[0.9]\n"
     ]
    }
   ],
   "source": [
    "# Build a decision tree\n",
    "def build_tree(train_set, max_depth, min_size, criteria):\n",
    "    root = get_split(train_set, criteria)\n",
    "    split(root, max_depth, min_size, 0, criteria)\n",
    "    return root\n",
    "\n",
    "# Print a decision tree\n",
    "def print_tree(node, depth=0):\n",
    "    if isinstance(node, dict):\n",
    "        print('%s[X%d < %.3f]' %\n",
    "              ((depth*'-', (node['attribute']+1), node['value'])))\n",
    "        print_tree(node['left'], depth+2)\n",
    "        print_tree(node['right'], depth+2)\n",
    "    else:\n",
    "        print('%s[%s]' % ((depth*'-', node)))  # This is cool!\n",
    "\n",
    "\n",
    "tree = build_tree(dataset, 2, 1, 'std')\n",
    "print_tree(tree)\n",
    "# print(tree)"
   ]
  },
  {
   "cell_type": "markdown",
   "metadata": {},
   "source": [
    "## Prediction"
   ]
  },
  {
   "cell_type": "code",
   "execution_count": 54,
   "metadata": {},
   "outputs": [],
   "source": [
    "def predict(tree, input_row):  # input is row of testset\n",
    "    if input_row[tree['attribute']] < tree['value']:\n",
    "        if isinstance(tree['left'], dict):\n",
    "            return predict(tree['left'], input_row)\n",
    "        else:\n",
    "            return tree['left']\n",
    "    else:\n",
    "        if isinstance(tree['right'], dict):\n",
    "            return predict(tree['right'], input_row)\n",
    "        else:\n",
    "            return tree['right']\n",
    "\n",
    "# Root Mean Square Error\n",
    "def rmse(y, y_hat):\n",
    "    if not isinstance(y, np.ndarray):\n",
    "        y, y_hat = np.array(y), np.array(y_hat)\n",
    "    return np.mean((y - y_hat)**2)"
   ]
  },
  {
   "cell_type": "markdown",
   "metadata": {},
   "source": [
    "## Work with Real Data"
   ]
  },
  {
   "cell_type": "code",
   "execution_count": 55,
   "metadata": {},
   "outputs": [],
   "source": [
    "# Load a CSV file\n",
    "def load_csv(filename):\n",
    "    file = open(filename, \"rt\")\n",
    "    lines = reader(file)\n",
    "    dataset = list(lines)\n",
    "    return dataset\n",
    "\n",
    "# Convert string column to float\n",
    "def str_column_to_float(dataset, column):\n",
    "    for row in dataset:\n",
    "        row[column] = float(row[column])\n",
    "\n",
    "# Convert string column to integer\n",
    "def str_column_to_int(dataset, column):\n",
    "\tclass_values = [row[column] for row in dataset]\n",
    "\tunique = set(class_values)\n",
    "\tlookup = dict()\n",
    "\tfor i, value in enumerate(unique):\n",
    "\t\tlookup[value] = i\n",
    "\tfor row in dataset:\n",
    "\t\trow[column] = lookup[row[column]]\n",
    "\treturn lookup\n",
    "\n",
    "# Split a dataset into k folds\n",
    "def cross_validation_split(dataset, n_folds):\n",
    "    dataset_split = list()\n",
    "    dataset_copy = list(dataset)\n",
    "    fold_size = int(len(dataset) / n_folds)\n",
    "    for i in range(n_folds):\n",
    "        fold = list()\n",
    "        while len(fold) < fold_size:\n",
    "            index = randrange(len(dataset_copy))\n",
    "            fold.append(dataset_copy.pop(index))\n",
    "        dataset_split.append(fold)\n",
    "    return dataset_split\n",
    "\n",
    "# Calculate accuracy percentage\n",
    "def accuracy_metric(actual, predicted):\n",
    "    correct = 0\n",
    "    for i in range(len(actual)):\n",
    "        if actual[i] == predicted[i]:\n",
    "            correct += 1\n",
    "    return correct / float(len(actual)) * 100.0\n",
    "\n",
    "# Evaluate an algorithm using a cross validation split\n",
    "def evaluate_algorithm(dataset, algorithm, n_folds,  *args, metric=rmse):\n",
    "#     metric = rmse\n",
    "    folds = cross_validation_split(dataset, n_folds)\n",
    "    scores = list()\n",
    "    for fold in folds:\n",
    "        train_set = list(folds)\n",
    "        train_set.remove(fold)\n",
    "        train_set = sum(train_set, [])  # concatenate lists of lists to a list\n",
    "        test_set = list()\n",
    "        for row in fold:\n",
    "            row_copy = list(row)\n",
    "            test_set.append(row_copy)\n",
    "            # test_set use to predict => no need to hold [class] data\n",
    "            row_copy[-1] = None\n",
    "        predicted = algorithm(train_set, test_set, *args)\n",
    "        actual = [row[-1] for row in fold]\n",
    "        accuracy = metric(actual, predicted)\n",
    "        scores.append(accuracy)\n",
    "    return scores\n",
    "\n",
    "def decision_tree_regressor(train_set, test_set, max_depth, min_size, criteria):\n",
    "    root = build_tree(train_set, max_depth, min_size, criteria)\n",
    "    prediction = list()\n",
    "    for row in test_set:\n",
    "        prediction.append(predict(root, row))\n",
    "    return prediction"
   ]
  },
  {
   "cell_type": "code",
   "execution_count": 56,
   "metadata": {},
   "outputs": [
    {
     "name": "stdout",
     "output_type": "stream",
     "text": [
      "The last row convert from str to int\n",
      "Scores: [0.017985365432694564, 0.021398018202557965, 0.010678287206001622, 0.014657677750743442, 0.02453721856923582]\n",
      "Root Mean Square Error: 0.018\n"
     ]
    }
   ],
   "source": [
    "seed(1)\n",
    "# load and prepare data\n",
    "\n",
    "# filename = 'data/sonar.csv' # 0.017\n",
    "filename = 'data/BankNote_Authentication.csv' # 0.232\n",
    "dataset = load_csv(filename)\n",
    "# remove the string attributes\n",
    "dataset.pop(0) \n",
    "\n",
    "# convert string attributes to float\n",
    "for i in range(len(dataset[0]) - 1):\n",
    "    str_column_to_float(dataset, i)\n",
    "\n",
    "# Check if the last row is not INT{0,1}\n",
    "if not isinstance(dataset[0][-1], int):\n",
    "    print(\"The last row convert from str to int\")\n",
    "    str_column_to_int(dataset, len(dataset[0])-1)\n",
    "\n",
    "# evaluate algorithm\n",
    "n_folds = 5\n",
    "max_depth = 5  # maximum depth of tree\n",
    "min_size = 10  # minimum size of 1 group\n",
    "scores = evaluate_algorithm(\n",
    "    dataset, decision_tree_regressor, n_folds, max_depth, min_size, 'mae')\n",
    "print('Scores: %s' % scores)\n",
    "print('Root Mean Square Error: %.3f' % (sum(scores)/float(len(scores))))"
   ]
  },
  {
   "cell_type": "code",
   "execution_count": 57,
   "metadata": {},
   "outputs": [],
   "source": [
    "def shuffle_data(X, y):\n",
    "    assert len(X) == len(y)\n",
    "    permute = np.random.permutation(len(y))\n",
    "    return X[permute], y[permute]\n",
    "\n",
    "def train_test_split_manual(X, y, test_size=0.3):\n",
    "    nX, ny = shuffle_data(X,y)\n",
    "    split_index = int(len(X)*test_size)\n",
    "    testX = nX[:split_index]\n",
    "    trainX = nX[split_index:]\n",
    "    testy = ny[:split_index]\n",
    "    trainy = ny[split_index:]\n",
    "    return trainX, testX, trainy, testy\n"
   ]
  },
  {
   "cell_type": "code",
   "execution_count": 58,
   "metadata": {},
   "outputs": [
    {
     "data": {
      "image/png": "[encoded data removed]",
      "text/plain": [
       "<Figure size 432x288 with 1 Axes>"
      ]
     },
     "metadata": {
      "needs_background": "light"
     },
     "output_type": "display_data"
    }
   ],
   "source": [
    "def get_data():\n",
    "    x = np.linspace(-10,10,500)\n",
    "    y = np.sin(x)\n",
    "    return x, y\n",
    "\n",
    "X,y = get_data()\n",
    "\n",
    "plt.plot(X,y);"
   ]
  },
  {
   "cell_type": "code",
   "execution_count": 59,
   "metadata": {},
   "outputs": [
    {
     "name": "stderr",
     "output_type": "stream",
     "text": [
      "/home/pronton/dev/python/ml/lib/python3.8/site-packages/numpy/core/fromnumeric.py:3440: RuntimeWarning: Mean of empty slice.\n",
      "  return _methods._mean(a, axis=axis, dtype=dtype,\n",
      "/home/pronton/dev/python/ml/lib/python3.8/site-packages/numpy/core/_methods.py:189: RuntimeWarning: invalid value encountered in double_scalars\n",
      "  ret = ret.dtype.type(ret / rcount)\n"
     ]
    },
    {
     "name": "stdout",
     "output_type": "stream",
     "text": [
      "Scores: [0.0018693060538948966, 0.002332604141636585, 0.0021935755131397435, 0.002157020210737142, 0.002446501386175882]\n",
      "Root Mean Square Error: 0.002\n"
     ]
    },
    {
     "data": {
      "image/png": "[encoded data removed]",
      "text/plain": [
       "<Figure size 432x288 with 1 Axes>"
      ]
     },
     "metadata": {
      "needs_background": "light"
     },
     "output_type": "display_data"
    }
   ],
   "source": [
    "n_folds = 5\n",
    "max_depth = 20  # maximum depth of tree\n",
    "min_size = 2  # minimum size of 1 group\n",
    "\n",
    "# Draw the predictions on the real data\n",
    "x_train, x_test, y_train, y_test = train_test_split_manual(X,y,test_size=0.3)\n",
    "predictions = decision_tree_regressor(list(zip(x_train, y_train)), \\\n",
    "                                      list(zip(x_test, y_test)), max_depth, min_size, criteria='mae')\n",
    "plt.scatter(x_test,predictions,c='r', marker='^')\n",
    "plt.plot(X,y);\n",
    "\n",
    "# evaluate algorithm\n",
    "scores = evaluate_algorithm(\n",
    "    list(zip(X,y)), decision_tree_regressor, n_folds, max_depth, min_size, 'std')\n",
    "print('Scores: %s' % scores)\n",
    "print('Root Mean Square Error: %.3f' % (sum(scores)/float(len(scores))))"
   ]
  },
  {
   "cell_type": "code",
   "execution_count": 60,
   "metadata": {},
   "outputs": [
    {
     "name": "stderr",
     "output_type": "stream",
     "text": [
      "/home/pronton/dev/python/ml/lib/python3.8/site-packages/numpy/core/fromnumeric.py:3440: RuntimeWarning: Mean of empty slice.\n",
      "  return _methods._mean(a, axis=axis, dtype=dtype,\n",
      "/home/pronton/dev/python/ml/lib/python3.8/site-packages/numpy/core/_methods.py:189: RuntimeWarning: invalid value encountered in double_scalars\n",
      "  ret = ret.dtype.type(ret / rcount)\n"
     ]
    },
    {
     "name": "stdout",
     "output_type": "stream",
     "text": [
      "Scores: [0.030141910996946093, 0.045683668997459154, 0.032815252978389636, 0.03719047419212335, 0.04257249735255269]\n",
      "Root Mean Square Error: 0.038\n"
     ]
    },
    {
     "data": {
      "image/png": "[encoded data removed]",
      "text/plain": [
       "<Figure size 432x288 with 1 Axes>"
      ]
     },
     "metadata": {
      "needs_background": "light"
     },
     "output_type": "display_data"
    }
   ],
   "source": [
    "max_depth = 5  # maximum depth of tree\n",
    "min_size = 1# minimum size of 1 group\n",
    "\n",
    "# Draw the predictions on the real data\n",
    "x_train, x_test, y_train, y_test = train_test_split_manual(X,y,test_size=0.3)\n",
    "predictions = decision_tree_regressor(list(zip(x_train, y_train)), \\\n",
    "                                      list(zip(x_test, y_test)), max_depth, min_size, criteria='mae')\n",
    "plt.scatter(x_test,predictions,c='r', marker='^')\n",
    "plt.plot(X,y);\n",
    "\n",
    "# evaluate algorithm\n",
    "scores = evaluate_algorithm(\n",
    "    list(zip(X,y)), decision_tree_regressor, n_folds, max_depth, min_size, 'std')\n",
    "print('Scores: %s' % scores)\n",
    "print('Root Mean Square Error: %.3f' % (sum(scores)/float(len(scores))))"
   ]
  },
  {
   "cell_type": "markdown",
   "metadata": {},
   "source": [
    "## Conclusion\n",
    "\n",
    "Version 0.1:\n",
    "* RMSE:\n",
    "    - 0.017 data/BankNote_Authentication.csv (**std**)\n",
    "    - 0.018 data/BankNote_Authentication.csv (**mae**)\n",
    "    - 0.232 data/sonar.csv (**std**)\n",
    "    - 0.275 data/sonar.csv (**mae**)\n",
    "    - 0.002 sine data (**max_depth** = 20, **std**)\n",
    "    - 0.031 sine data (**max_depth** = 3, **std**)\n",
    "\n",
    "`Note`: The idea of decision tree regressor is similar to that of decision tree classifier. The small change in code is that instead of use **entropy/gini_index** to find the best split in classifier version, this one use **std/mae**."
   ]
  },
  {
   "cell_type": "markdown",
   "metadata": {},
   "source": [
    "## Refs\n",
    "https://machinelearningmastery.com/implement-decision-tree-algorithm-scratch-python/\n",
    "\n",
    "ZWMiller /machine_learning_from_scratch has a large library about \"ML from scratch\". This is one of his notebook about decision tree regressor:\n",
    "\n",
    "https://github.com/ZWMiller/machine_learning_from_scratch/blob/master/notebooks/regressors/decision_tree_regressor.ipynb"
   ]
  }
 ],
 "metadata": {
  "interpreter": {
   "hash": "28f96ec01d3331ab2b5d4a1bb32d02e762004829634cea2cd2eeaefdb8bb653c"
  },
  "kernelspec": {
   "display_name": "Python 3",
   "language": "python",
   "name": "python3"
  },
  "language_info": {
   "codemirror_mode": {
    "name": "ipython",
    "version": 3
   },
   "file_extension": ".py",
   "mimetype": "text/x-python",
   "name": "python",
   "nbconvert_exporter": "python",
   "pygments_lexer": "ipython3",
   "version": "3.8.10"
  }
 },
 "nbformat": 4,
 "nbformat_minor": 4
}
