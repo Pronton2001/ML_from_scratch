{
 "cells": [
  {
   "cell_type": "markdown",
   "source": [
    "# Random Forest from scratch"
   ],
   "metadata": {}
  },
  {
   "cell_type": "markdown",
   "source": [
    "## Why Random Forest?\n",
    "`Decision tree` is susceptible to high variance if it is not pruned. \n",
    "\n",
    "`Bagging` is the combination of many Decision Tree models, and the prediction follows the crowd; but these tree are highly correlated.\n",
    "\n",
    "`Random Forest`, the extension of `Bagging`, constrains the features that can be used to build the trees, forcing trees to be different. This, in turn, can give a lift in performance.\n",
    "\n",
    "`Bagging` and `Random Forest` execute Decision Tree upon a sample of the training dataset. **Sample with replacement** means that the same row may be chosen and added to samples more than once."
   ],
   "metadata": {}
  },
  {
   "cell_type": "code",
   "execution_count": 27,
   "source": [
    "from csv import reader\n",
    "from math import log,sqrt\n",
    "from random import randrange, seed\n",
    "from statistics import mode"
   ],
   "outputs": [],
   "metadata": {}
  },
  {
   "cell_type": "code",
   "execution_count": 28,
   "source": [
    "dataset = [[2.771244718, 1.784783929, 0],\n",
    "           [1.728571309, 1.169761413, 0],\n",
    "           [3.678319846, 2.81281357, 0],\n",
    "           [3.961043357, 2.61995032, 0],\n",
    "           [2.999208922, 2.209014212, 0],\n",
    "           [7.497545867, 3.162953546, 1],\n",
    "           [9.00220326, 3.339047188, 1],\n",
    "           [7.444542326, 0.476683375, 1],\n",
    "           [10.12493903, 3.234550982, 1],\n",
    "           [6.642287351, 3.319983761, 1]]"
   ],
   "outputs": [],
   "metadata": {}
  },
  {
   "cell_type": "markdown",
   "source": [
    "## Calculating splits"
   ],
   "metadata": {}
  },
  {
   "cell_type": "code",
   "execution_count": 29,
   "source": [
    "def gini_index(groups, classes):\n",
    "\t\"\"\"\n",
    "\tGini_index(S,A) = Sum(|Si|/|S| * (1 - Sum(Pj*Pj))),\n",
    "\twhere,\n",
    "\t\tA: Attribute A\n",
    "\t\tS: Root group\n",
    "\t\tSi: Child ith when apply attribute A\n",
    "\t\tPj: % of class j\n",
    "\tComplexity: O(#groups x #classes)\n",
    "\t\n",
    "\tArgs:\n",
    "\t\t`groups`: A list of groups after choose Attribute A\n",
    "\t\t`classes`: A list of classes' values\n",
    "\tReturn:\n",
    "\t\tGini_index(S,A)\n",
    "\tFor example,\n",
    "\t>>> gini_index([[[1,0],[2,0]],[[0,1],[1,1],[2,1]]], [0,1])\n",
    "\t>>> 0.0\n",
    "\t\"\"\"\n",
    "\t# count all samples at split point\n",
    "\tn_instances = float(sum([len(group) for group in groups]))\n",
    "\t# sum weighted Gini index for each group\n",
    "\tgini = 0.0\n",
    "\tfor group in groups:\n",
    "\t\tsize = float(len(group))\n",
    "\t\t# avoid divide by zero\n",
    "\t\tif size == 0:\n",
    "\t\t\tcontinue\n",
    "\t\tscore = 0.0\n",
    "\t\t# score the group based on the score for each class\n",
    "\t\tfor class_val in classes:\n",
    "\t\t\tp = [row[-1] for row in group].count(class_val) / size\n",
    "\t\t\tscore += p * p\n",
    "\t\t# weight the group score by its relative size\n",
    "\t\tgini += (1.0 - score) * (size / n_instances)\n",
    "\treturn gini\n",
    "\n",
    "# Another way: calculate the entropy (slow)\n",
    "def entropy(groups, classes):\n",
    "\t\"\"\"\n",
    "\tEntropy(S,A) = Sum(|Si|/|S| * E(Si))\n",
    "\tE(Si) = sum (-Pj log(Pj))\n",
    "\t\"\"\"\n",
    "\t# count all samples at split point\n",
    "\tn_instances = float(sum([len(group) for group in groups]))\n",
    "\t# sum weighted Gini index for each group\n",
    "\tentropy = 0.0\n",
    "\tfor group in groups:\n",
    "\t\tsize = float(len(group))\n",
    "\t\t# avoid divide by zero\n",
    "\t\tif size == 0:\n",
    "\t\t\tcontinue\n",
    "\t\tscore = 0.0\n",
    "\t\t# score the group based on the score for each class\n",
    "\t\tfor class_val in classes:\n",
    "\t\t\tp = [row[-1] for row in group].count(class_val) / size\n",
    "\t\t\tif p ==0 or p==1:\n",
    "\t\t\t\tscore = 0\n",
    "\t\t\telse:\n",
    "\t\t\t\tscore -= p * math.log(p)\n",
    "\t\t# weight the group score by its relative size\n",
    "\t\tentropy += score * (size / n_instances)\n",
    "\treturn entropy"
   ],
   "outputs": [],
   "metadata": {}
  },
  {
   "cell_type": "code",
   "execution_count": 30,
   "source": [
    "entropy([[[1,0],[2,0]],[[0,0],[1,1],[2,1]]], [0,1]), \\\n",
    "gini_index([[[1,0],[2,0]],[[0,0],[1,1],[2,1]]], [0,1])"
   ],
   "outputs": [
    {
     "output_type": "execute_result",
     "data": {
      "text/plain": [
       "(0.38190850097688767, 0.26666666666666666)"
      ]
     },
     "metadata": {},
     "execution_count": 30
    }
   ],
   "metadata": {}
  },
  {
   "cell_type": "code",
   "execution_count": 31,
   "source": [
    "def test_split(index, value, dataset):\n",
    "    \"\"\"\n",
    "    Split a dataset based on an attribute and an attribute value.\n",
    "    Complexity: O(#rows)\n",
    "    \"\"\"\n",
    "    left, right = list(), list()\n",
    "    for row in dataset:\n",
    "        if row[index] < value:\n",
    "            left.append(row)\n",
    "        else:\n",
    "            right.append(row)\n",
    "    return left, right\n",
    "\n",
    "\n",
    "def get_split(dataset, n_features):\n",
    "    \"\"\"\n",
    "    This heuristic algorithm loops all rows (samples) and column (attributes), thus it is painful for computing.\n",
    "    Complexity: O(#rows^2 x #columns) x O(gini_index)\n",
    "    \"\"\"\n",
    "    classes = list(set(row[-1] for row in dataset))\n",
    "    retAttribute, retValue, retGroups, min_gini = None, None, None, 999\n",
    "\n",
    "    features = list()\n",
    "    counter = 0\n",
    "    while counter < n_features:\n",
    "        index = randrange(len(dataset[0])-1)\n",
    "        if index not in features:\n",
    "            counter = counter + 1\n",
    "            features.append(index)\n",
    "    for row in dataset:\n",
    "        for attribute in features:\n",
    "            groups = test_split(attribute, row[attribute], dataset)\n",
    "            gini = gini_index(groups, classes)\n",
    "            if gini < min_gini:\n",
    "                min_gini = gini\n",
    "                retAttribute, retValue, retGroups = attribute, row[attribute], groups\n",
    "    return {'attribute': retAttribute, 'value': retValue, 'groups': retGroups}\n",
    "\n",
    "\n",
    "get_split(dataset, 2)\n"
   ],
   "outputs": [
    {
     "output_type": "execute_result",
     "data": {
      "text/plain": [
       "{'attribute': 0,\n",
       " 'value': 6.642287351,\n",
       " 'groups': ([[2.771244718, 1.784783929, 0],\n",
       "   [1.728571309, 1.169761413, 0],\n",
       "   [3.678319846, 2.81281357, 0],\n",
       "   [3.961043357, 2.61995032, 0],\n",
       "   [2.999208922, 2.209014212, 0]],\n",
       "  [[7.497545867, 3.162953546, 1],\n",
       "   [9.00220326, 3.339047188, 1],\n",
       "   [7.444542326, 0.476683375, 1],\n",
       "   [10.12493903, 3.234550982, 1],\n",
       "   [6.642287351, 3.319983761, 1]])}"
      ]
     },
     "metadata": {},
     "execution_count": 31
    }
   ],
   "metadata": {}
  },
  {
   "cell_type": "code",
   "execution_count": 32,
   "source": [
    "def to_terminal(group):\n",
    "    assert group, 'group should not be empty'\n",
    "    outcomes = [row[-1] for row in group]\n",
    "    return mode(outcomes)  # most frequency\n",
    "\n",
    "def split(node, max_depth, min_size, depth, n_features):\n",
    "    left, right = node['groups']\n",
    "    del(node['groups'])\n",
    "    # check for a no split\n",
    "    if not left or not right:  # left or right is empty list\n",
    "        node['left'] = node['right'] = to_terminal(left + right)\n",
    "        return\n",
    "    # check for max depth\n",
    "    if depth >= max_depth:\n",
    "        node['left'], node['right'] = to_terminal(left), to_terminal(right)\n",
    "        return\n",
    "    # process left child\n",
    "    if len(left) <= min_size:\n",
    "        node['left'] = to_terminal(left)\n",
    "    else:\n",
    "        node['left'] = get_split(left, n_features)\n",
    "        split(node['left'], max_depth, min_size, depth+1, n_features)\n",
    "    # process right child\n",
    "    if len(right) <= min_size:\n",
    "        node['right'] = to_terminal(right)\n",
    "    else:\n",
    "        node['right'] = get_split(right, n_features)\n",
    "        split(node['right'], max_depth, min_size, depth+1, n_features)"
   ],
   "outputs": [],
   "metadata": {}
  },
  {
   "cell_type": "markdown",
   "source": [
    "## Build a tree"
   ],
   "metadata": {}
  },
  {
   "cell_type": "code",
   "execution_count": 33,
   "source": [
    "def build_tree(train_set, max_depth, min_size, n_features):\n",
    "\troot = get_split(dataset= train_set, n_features=n_features)\n",
    "\tsplit(root, max_depth, min_size, 0, n_features)\n",
    "\treturn root\n",
    "\n",
    "def print_tree(node, depth=0):\n",
    "    if isinstance(node, dict):\n",
    "        print('%s[X%d < %.3f]' %\n",
    "              ((depth*'-', (node['attribute']+1), node['value'])))\n",
    "        print_tree(node['left'], depth+2)\n",
    "        print_tree(node['right'], depth+2)\n",
    "    else:\n",
    "        print('%s[%s]' % ((depth*'-', node)))  # This is cool!\n",
    "\n",
    "\n",
    "tree = build_tree(dataset, 6, 1, 1)\n",
    "print_tree(tree)\n",
    "# print(tree)\n"
   ],
   "outputs": [
    {
     "output_type": "stream",
     "name": "stdout",
     "text": [
      "[X1 < 6.642]\n",
      "--[X2 < 1.785]\n",
      "----[0]\n",
      "----[X2 < 1.785]\n",
      "------[0]\n",
      "------[0]\n",
      "--[X2 < 3.163]\n",
      "----[1]\n",
      "----[X2 < 3.163]\n",
      "------[1]\n",
      "------[1]\n"
     ]
    }
   ],
   "metadata": {}
  },
  {
   "cell_type": "code",
   "execution_count": 34,
   "source": [
    "def predict(tree, input_row):\n",
    "\tif input_row[tree['attribute']] < tree['value']:\n",
    "\t\tif isinstance(tree['left'], dict):\n",
    "\t\t\treturn predict(tree['left'], input_row)\n",
    "\t\telse:\n",
    "\t\t\treturn tree['left']\n",
    "\telse:\n",
    "\t\tif isinstance(tree['right'], dict):\n",
    "\t\t\treturn predict(tree['right'], input_row)\n",
    "\t\telse:\n",
    "\t\t\treturn tree['right']"
   ],
   "outputs": [],
   "metadata": {}
  },
  {
   "cell_type": "markdown",
   "source": [
    "## Build a forest"
   ],
   "metadata": {}
  },
  {
   "cell_type": "code",
   "execution_count": 35,
   "source": [
    "def subsample(dataset, sample_size):\n",
    "    \"\"\"\n",
    "    Retrieve from the `dataset` *randomly* with `sample_size`\n",
    "    \"\"\"\n",
    "    samples = list()\n",
    "    counter = 0\n",
    "    while(counter < sample_size):\n",
    "        index = randrange(len(dataset))\n",
    "        samples.append(dataset[index])\n",
    "        counter += 1\n",
    "    return samples\n",
    "\n",
    "def bagging_predict(trees, row):\n",
    "    return mode([predict(tree, row) for tree in trees])  # most freq\n",
    "\n",
    "\n",
    "def random_forest(train_set, test_set, max_depth, min_size, n_features, n_trees, sample_size):\n",
    "    trees = list()\n",
    "    for i in range(n_trees):\n",
    "        sample = subsample(train_set, sample_size)\n",
    "        tree = build_tree(sample, max_depth, min_size, n_features)\n",
    "        trees.append(tree)\n",
    "    predictions = [bagging_predict(trees, row) for row in test_set]\n",
    "    return predictions\n",
    "\n",
    "print(random_forest(dataset[:int(len(dataset)*7/10)], dataset[int(len(dataset)*7/10):], 5, 1, 1, 5, 4))\n"
   ],
   "outputs": [
    {
     "output_type": "stream",
     "name": "stdout",
     "text": [
      "[0, 1, 0]\n"
     ]
    }
   ],
   "metadata": {}
  },
  {
   "cell_type": "markdown",
   "source": [
    "## Work with real data"
   ],
   "metadata": {}
  },
  {
   "cell_type": "code",
   "execution_count": 36,
   "source": [
    "# Load a CSV file\n",
    "def load_csv(filename):\n",
    "    file = open(filename, \"rt\")\n",
    "    lines = reader(file)\n",
    "    dataset = list(lines)\n",
    "    return dataset\n",
    "\n",
    "# Convert string column to float\n",
    "def str_column_to_float(dataset, column):\n",
    "    for row in dataset:\n",
    "        row[column] = float(row[column])\n",
    "\n",
    "# Split a dataset into k folds\n",
    "def cross_validation_split(dataset, n_folds):\n",
    "    dataset_split = list()\n",
    "    dataset_copy = list(dataset)\n",
    "    fold_size = int(len(dataset) / n_folds)\n",
    "    for i in range(n_folds):\n",
    "        fold = list()\n",
    "        while len(fold) < fold_size:\n",
    "            index = randrange(len(dataset_copy))\n",
    "            fold.append(dataset_copy.pop(index))\n",
    "        dataset_split.append(fold)\n",
    "    return dataset_split\n",
    "\n",
    "# Calculate accuracy percentage\n",
    "def accuracy_metric(actual, predicted):\n",
    "    correct = 0\n",
    "    for i in range(len(actual)):\n",
    "        if actual[i] == predicted[i]:\n",
    "            correct += 1\n",
    "    return correct / float(len(actual)) * 100.0\n",
    "\n",
    "# Evaluate an algorithm using a cross validation split\n",
    "def evaluate_algorithm(dataset, algorithm, n_folds, *args):\n",
    "    folds = cross_validation_split(dataset, n_folds)\n",
    "    scores = list()\n",
    "    for fold in folds:\n",
    "        train_set = list(folds)\n",
    "        train_set.remove(fold)\n",
    "        train_set = sum(train_set, [])  # concatenate lists of lists to a list\n",
    "        test_set = list()\n",
    "        for row in fold:\n",
    "            row_copy = list(row)\n",
    "            test_set.append(row_copy)\n",
    "            # test_set use to predict => no need to hold [class] data\n",
    "            row_copy[-1] = None\n",
    "        predicted = algorithm(train_set, test_set, *args)\n",
    "        actual = [row[-1] for row in fold]\n",
    "        accuracy = accuracy_metric(actual, predicted)\n",
    "        scores.append(accuracy)\n",
    "    return scores"
   ],
   "outputs": [],
   "metadata": {}
  },
  {
   "cell_type": "code",
   "execution_count": 37,
   "source": [
    "filename = 'data/sonar.csv'\n",
    "dataset = load_csv(filename)\n",
    "\n",
    "for column in range(len(dataset[0]) - 1):\n",
    "    str_column_to_float(dataset, column)\n",
    "\n",
    "n_folds = 5\n",
    "max_depth = 5\n",
    "min_size = 10\n",
    "n_trees = [1, 5, 10,15]\n",
    "n_features = round(math.sqrt(len(dataset[0]) - 1))\n",
    "sample_size = len(dataset)\n",
    "\n",
    "for n_tree in n_trees:\n",
    "\tscores = evaluate_algorithm(dataset, random_forest, n_folds, max_depth, min_size, n_features, n_tree, sample_size)\n",
    "\tprint('# trees: %s' % n_tree)\n",
    "\tprint('Scores: %s' % scores)\n",
    "\tprint('Mean Accuracy: %.3f%%' % (sum(scores)/float(len(scores))))"
   ],
   "outputs": [
    {
     "output_type": "stream",
     "name": "stdout",
     "text": [
      "# trees: 1\n",
      "Scores: [60.97560975609756, 58.536585365853654, 73.17073170731707, 63.41463414634146, 70.73170731707317]\n",
      "Mean Accuracy: 65.366%\n",
      "# trees: 5\n",
      "Scores: [65.85365853658537, 80.48780487804879, 68.29268292682927, 75.60975609756098, 78.04878048780488]\n",
      "Mean Accuracy: 73.659%\n",
      "# trees: 10\n",
      "Scores: [63.41463414634146, 73.17073170731707, 70.73170731707317, 85.36585365853658, 85.36585365853658]\n",
      "Mean Accuracy: 75.610%\n",
      "# trees: 15\n",
      "Scores: [75.60975609756098, 78.04878048780488, 87.8048780487805, 80.48780487804879, 70.73170731707317]\n",
      "Mean Accuracy: 78.537%\n"
     ]
    }
   ],
   "metadata": {}
  },
  {
   "cell_type": "markdown",
   "source": [
    "## Refs\n",
    "https://machinelearningmastery.com/implement-random-forest-scratch-python/"
   ],
   "metadata": {}
  }
 ],
 "metadata": {
  "orig_nbformat": 4,
  "language_info": {
   "name": "python",
   "version": "3.8.10",
   "mimetype": "text/x-python",
   "codemirror_mode": {
    "name": "ipython",
    "version": 3
   },
   "pygments_lexer": "ipython3",
   "nbconvert_exporter": "python",
   "file_extension": ".py"
  },
  "kernelspec": {
   "name": "python3",
   "display_name": "Python 3.8.10 64-bit ('mp_env': venv)"
  },
  "interpreter": {
   "hash": "28f96ec01d3331ab2b5d4a1bb32d02e762004829634cea2cd2eeaefdb8bb653c"
  }
 },
 "nbformat": 4,
 "nbformat_minor": 2
}