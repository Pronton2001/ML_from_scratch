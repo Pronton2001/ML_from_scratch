{
 "cells": [
  {
   "cell_type": "markdown",
   "id": "42fb9c7a-52eb-4081-915f-48083c600e8e",
   "metadata": {},
   "source": [
    "# t-SNE "
   ]
  },
  {
   "cell_type": "markdown",
   "id": "8db80b8a-329b-4ba9-8df8-62ce506cafe8",
   "metadata": {},
   "source": [
    "## SNE"
   ]
  },
  {
   "cell_type": "code",
   "execution_count": 166,
   "id": "c80763f3-0c1d-4716-a785-7b6116e4cd9a",
   "metadata": {},
   "outputs": [],
   "source": [
    "from csv import reader\n",
    "from math import log,sqrt\n",
    "from random import randrange, seed\n",
    "from statistics import mode\n",
    "import numpy as np\n",
    "import matplotlib.pyplot as plt\n",
    "import warnings\n",
    "import time"
   ]
  },
  {
   "cell_type": "code",
   "execution_count": 279,
   "id": "31ce08f2-2a22-4496-af6c-6ec1accd9f58",
   "metadata": {},
   "outputs": [],
   "source": [
    "def sqr_euclidean_distance(a,b):\n",
    "    if isinstance(a, int) or isinstance(a, np.int32) or isinstance(a, float) or isinstance(a, np.float32):\n",
    "        return (a - b)**2\n",
    "    return sum([(xi - xj )**2 for xi,xj in zip(a,b)])\n",
    "            \n",
    "sqr_euclidean_distance(np.array([0,-1,2]),np.array([2,1,3]))\n",
    "\n",
    "X = np.array([[1,2],\n",
    "              [0,1],\n",
    "              [5,6],\n",
    "              [5,4]],dtype= np.float32)\n",
    "Y =  np.array([1,3,-2,2],dtype=np.float32)\n",
    "\n",
    "def pairwise_distance(X, i):\n",
    "    # return dist(X[j], X[i]) for all j\n",
    "    return np.array([sqr_euclidean_distance(X[i], X[j]) for j in range(0, len(X))])\n",
    "\n",
    "\n",
    "def conditional_pji(X, i, sigmaSqr): # ~softmax\n",
    "    # compute p_j|i for all j\n",
    "    D = pairwise_distance(X, i)\n",
    "    exp_vector = np.zeros(len(X))\n",
    "    for j in range(len(X)):\n",
    "        if j!=i:\n",
    "            exp_vector[j] = np.exp(-D[j]/(2*sigmaSqr))\n",
    "    return exp_vector/np.sum(exp_vector)\n",
    "\n",
    "\n",
    "def join_pij(X, i, sigmaSqr):\n",
    "    # compute pij = (p_i|j + p_j|i) / (2*N) for all j\n",
    "    N = len(X)\n",
    "    pi = np.zeros(N)\n",
    "    for j in range(N):\n",
    "        if j!=i:\n",
    "            p_i_given_j = conditional_pji(X, i, sigmaSqr)[j]\n",
    "            p_j_given_i = conditional_pji(X, j, sigmaSqr)[i]\n",
    "            pi[j]= (p_i_given_j + p_j_given_i) / (2 * N) # N: nums of dimension\n",
    "    return pi\n",
    "\n",
    "# def join_p(X, sigmaSqr = 3): # sai\n",
    "#     # return p12, p13, p14, ... ,p23, p24, ...\n",
    "#     prob = []\n",
    "#     for a in range(len(X)-1):\n",
    "#         for b in range(a+1, len(X)):\n",
    "#             prob.append(join_pij(X, a, b, sigmaSqr))\n",
    "#     return prob\n",
    "\n",
    "def pairwise_distance_all(X):\n",
    "    # 12 13,..., 23,..., 34,...\n",
    "    pair = []\n",
    "    for i in range(0,len(X)-1):\n",
    "        for j in range(i+1, len(X)):\n",
    "            pair.append(sqr_euclidean_distance(X[i], X[j]))\n",
    "    return np.array(pair)\n",
    "\n",
    "def t_dist(D): # t-distribution with D = dist^2\n",
    "    return  1/(1+D)\n",
    "\n",
    "def join_qij(Y, i):\n",
    "    # Numerator\n",
    "    D = pairwise_distance(Y, i)\n",
    "    t_vector = t_dist(D)\n",
    "    t_vector[i] = 0 # qii = 0\n",
    "    # Denominator\n",
    "    D_all = pairwise_distance_all(Y)\n",
    "    prob_vector= t_dist(D_all) \n",
    "    return t_vector/np.sum(prob_vector)\n",
    "\n",
    "# def join_q(Y):\n",
    "#     # return p12, p13, p14, ... ,p23, p24, ...\n",
    "#     t_dist = lambda D: 1/(1+D) # t-distribution with D is dist^2\n",
    "#     D_all = pairwise_distance_all(Y)\n",
    "#     prob_vector= t_dist(D_all)\n",
    "#     return prob_vector/np.sum(prob_vector)"
   ]
  },
  {
   "cell_type": "code",
   "execution_count": 308,
   "id": "29491a00-85d1-469e-9598-53c4f7229651",
   "metadata": {},
   "outputs": [],
   "source": [
    "def gradient(X, Y, sigmaSqr = 3):\n",
    "    N = len(X)\n",
    "    grad = np.zeros(N)\n",
    "    for i in range(N):\n",
    "        pi = join_pij(X, i, sigmaSqr) # vector pi[0,1,...j]\n",
    "        qi = join_qij(Y, i) # vector qi[0,1,...j]\n",
    "        \n",
    "        D = pairwise_distance(Y, i)\n",
    "        t_vector = t_dist(D)\n",
    "        t_vector[i] = 0 #  qii = 0\n",
    "        grad[i] = 4* np.sum((pi - qi)*(Y[i]-Y)*t_vector)\n",
    "    return grad\n",
    "def gradient_descent(X, Y, sigmaSqr = 3, num_iter=10, lr = 10):\n",
    "    params = Y\n",
    "#     print(f'Iteration :{0}, params = \\n{params}')\n",
    "    for i in range(num_iter):\n",
    "        grad = gradient(X, params, sigmaSqr)\n",
    "        params = params - lr*grad\n",
    "#         plot(params)\n",
    "#         print(f'Iteration :{i+1}, params = \\n{params}')\n",
    "    return params"
   ]
  },
  {
   "cell_type": "code",
   "execution_count": 281,
   "id": "1fa91bd0-6615-4def-8852-7178327309f5",
   "metadata": {},
   "outputs": [
    {
     "data": {
      "image/png": "[encoded data removed]",
      "text/plain": [
       "<Figure size 432x288 with 1 Axes>"
      ]
     },
     "metadata": {
      "needs_background": "light"
     },
     "output_type": "display_data"
    },
    {
     "data": {
      "image/png": "[encoded data removed]",
      "text/plain": [
       "<Figure size 432x288 with 1 Axes>"
      ]
     },
     "metadata": {
      "needs_background": "light"
     },
     "output_type": "display_data"
    }
   ],
   "source": [
    "params = gradient_descent(X,Y,sigmaSqr=5, num_iter=100)\n",
    "def plot(params):\n",
    "    plt.scatter(params[:2], np.zeros(len(params[:2])), c='b')\n",
    "    plt.scatter(params[2:], np.zeros(len(params[2:])), c='r')\n",
    "    plt.show()\n",
    "plot(Y)\n",
    "plot(params)"
   ]
  },
  {
   "cell_type": "code",
   "execution_count": 317,
   "id": "e9d9bea5-4e38-42c0-acd4-bd724c0ca79f",
   "metadata": {},
   "outputs": [
    {
     "data": {
      "text/plain": [
       "[<matplotlib.lines.Line2D at 0x7fef696dddc0>]"
      ]
     },
     "execution_count": 317,
     "metadata": {},
     "output_type": "execute_result"
    },
    {
     "data": {
      "image/png": "[encoded data removed]",
      "text/plain": [
       "<Figure size 432x288 with 1 Axes>"
      ]
     },
     "metadata": {
      "needs_background": "light"
     },
     "output_type": "display_data"
    }
   ],
   "source": [
    "N = 10\n",
    "mean1 = [0, 0]\n",
    "mean2 = [100, 100]\n",
    "mean3 = [-100, 100]\n",
    "cov1 = [[1, 0], [0, 1]]\n",
    "X1 = np.random.multivariate_normal(mean1, cov, N)\n",
    "X2 = np.random.multivariate_normal(mean2, cov, N)\n",
    "X3 = np.random.multivariate_normal(mean3, cov, N)\n",
    "# plt.plot(X2.T[0],X2.T[1], 'x')\n",
    "# plt.plot(X2.T[0],X2.T[1], 'x')\n",
    "plt.axis('equal')\n",
    "# plt.show()\n",
    "\n",
    "Y = np.random.normal(0, 1e-5, size = 3*N)\n",
    "X = np.vstack((X1,X2,X3))\n",
    "plt.plot(X1.T[0],X1.T[1], 'rx')\n",
    "plt.plot(X2.T[0],X2.T[1], 'gx')\n",
    "plt.plot(X3.T[0],X3.T[1], 'bx')"
   ]
  },
  {
   "cell_type": "code",
   "execution_count": 322,
   "id": "4728069a-bc9d-4ab4-9912-d7dc7819ac41",
   "metadata": {},
   "outputs": [
    {
     "data": {
      "image/png": "[encoded data removed]",
      "text/plain": [
       "<Figure size 432x288 with 1 Axes>"
      ]
     },
     "metadata": {
      "needs_background": "light"
     },
     "output_type": "display_data"
    },
    {
     "data": {
      "image/png": "[encoded data removed]",
      "text/plain": [
       "<Figure size 432x288 with 1 Axes>"
      ]
     },
     "metadata": {
      "needs_background": "light"
     },
     "output_type": "display_data"
    }
   ],
   "source": [
    "params = gradient_descent(X,Y,sigmaSqr=1, num_iter=5)\n",
    "def plot(params):\n",
    "    N = int(len(params)/3)\n",
    "    plt.scatter(params[:N], np.zeros(N), c='r')\n",
    "    plt.scatter(params[N:2*N], np.zeros(N), c='g')\n",
    "    plt.scatter(params[2*N:], np.zeros(N), c='b')\n",
    "    plt.show()\n",
    "\n",
    "plt.title(\"Initial y\")\n",
    "plot(Y)\n",
    "plt.title(\"Trained y\")\n",
    "plot(params)"
   ]
  },
  {
   "cell_type": "code",
   "execution_count": 325,
   "id": "5cab1504-b5f3-4bd4-a11e-9585da29cc82",
   "metadata": {},
   "outputs": [
    {
     "data": {
      "image/png": "[encoded data removed]",
      "text/plain": [
       "<Figure size 432x288 with 1 Axes>"
      ]
     },
     "metadata": {
      "needs_background": "light"
     },
     "output_type": "display_data"
    },
    {
     "data": {
      "image/png": "[encoded data removed]",
      "text/plain": [
       "<Figure size 432x288 with 1 Axes>"
      ]
     },
     "metadata": {
      "needs_background": "light"
     },
     "output_type": "display_data"
    }
   ],
   "source": [
    "params = gradient_descent(X,Y,sigmaSqr=1, num_iter=20)\n",
    "def plot(params):\n",
    "    N = int(len(params)/3)\n",
    "    plt.scatter(params[:N], np.zeros(N), c='r')\n",
    "    plt.scatter(params[N:2*N], np.zeros(N), c='g')\n",
    "    plt.scatter(params[2*N:], np.zeros(N), c='b')\n",
    "    plt.show()\n",
    "\n",
    "plt.title(\"Initial y\")\n",
    "plot(Y)\n",
    "plt.title(\"Trained y\")\n",
    "plot(params)"
   ]
  },
  {
   "cell_type": "markdown",
   "id": "dffcfb09-0609-4dc4-93b6-fa8c4e8f6ab9",
   "metadata": {},
   "source": [
    "## Refs:\n",
    "https://nlml.github.io/in-raw-numpy/in-raw-numpy-t-sne/"
   ]
  }
 ],
 "metadata": {
  "kernelspec": {
   "display_name": "Python 3",
   "language": "python",
   "name": "python3"
  },
  "language_info": {
   "codemirror_mode": {
    "name": "ipython",
    "version": 3
   },
   "file_extension": ".py",
   "mimetype": "text/x-python",
   "name": "python",
   "nbconvert_exporter": "python",
   "pygments_lexer": "ipython3",
   "version": "3.8.10"
  }
 },
 "nbformat": 4,
 "nbformat_minor": 5
}
