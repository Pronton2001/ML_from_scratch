{
 "cells": [
  {
   "cell_type": "markdown",
   "id": "d770703f-6595-44e3-b9a2-14bd0725dcf8",
   "metadata": {},
   "source": [
    "# Table of content # \n",
    "\n",
    "\n",
    "1. [  Description ](#desc)\n",
    "\n",
    "2. [ The Math behind  ](#math)\n",
    "\n",
    "3. [  from scratch ](#code)\n",
    "    1. [ Import Library ](#import)    \n",
    "    2. [ Class PCA ](#class)\n",
    "    3. [ Work with Iris data ](#dataset)\n",
    "\n",
    "(f): function\n",
    "(v): variable\n",
    "(s): special words\n",
    "convjs_net:\n",
    "    * (f)make_layer: takes a list of layer definitions and creates the network layer objects\n",
    "    * (s) fc: fully-connected\n",
    "    \n",
    " "
   ]
  },
  {
   "cell_type": "code",
   "execution_count": 1,
   "id": "e567457c-13af-42bd-a268-eca7278e2df6",
   "metadata": {},
   "outputs": [],
   "source": [
    "from sklearn.datasets import fetch_openml\n",
    "import numpy as np\n",
    "from sklearn.model_selection import train_test_split\n",
    "import time\n",
    "\n",
    "################## plotting #######################\n",
    "%matplotlib inline\n",
    "# %load_ext watermark\n",
    "%load_ext autoreload\n",
    "%autoreload 2\n",
    "%config InlineBackend.figure_format = 'retina'\n",
    "import matplotlib.pyplot as plt"
   ]
  },
  {
   "cell_type": "markdown",
   "id": "20b2a6ab-2a2a-415c-ae0f-3e498c398dd5",
   "metadata": {},
   "source": [
    "## Toy data"
   ]
  },
  {
   "cell_type": "code",
   "execution_count": 61,
   "id": "0b89e89c-06bb-4fcc-92f9-4907206cc7c0",
   "metadata": {},
   "outputs": [],
   "source": [
    "def onehot(targets):\n",
    "    if isinstance(targets, tuple):\n",
    "        targets = np.ravel(targets)\n",
    "    z = list(set(targets))\n",
    "    size = len(z)\n",
    "    return [ [int(target == z[i]) for i in range(size)] for target in targets]\n",
    "\n",
    "def get_sep_linear_data():\n",
    "    mean1 = [0, 10]\n",
    "    mean2 = [10, 0]\n",
    "    mean3 = [10, -10]\n",
    "    cov = [[10,0.8],[0.8, 0.6]]\n",
    "\n",
    "    X1 = np.random.multivariate_normal(mean1, cov, 100)\n",
    "    y1 = np.ones(len(X1))\n",
    "    X2 = np.random.multivariate_normal(mean2, cov, 100)\n",
    "    y2 = np.zeros(len(X2)) \n",
    "    X3 = np.random.multivariate_normal(mean3, cov, 100)\n",
    "    y3 = np.ones(len(X3)) * -1\n",
    "    return X1, y1, X2, y2, X3, y3\n",
    "def get_sep_non_linear_data():\n",
    "    mean1 = [-1, 2]\n",
    "    mean2 = [1, -1]\n",
    "    mean3 = [4, -4]\n",
    "    mean4 = [-4, 4]\n",
    "    cov = [[1.0,0.8], [0.8, 1.0]]\n",
    "    X1 = np.random.multivariate_normal(mean1, cov, 50)\n",
    "    print(X1.shape)\n",
    "    X1 = np.vstack((X1, np.random.multivariate_normal(mean3, cov, 50)))\n",
    "    print(X1.shape)\n",
    "    y1 = np.ones(len(X1))\n",
    "    X2 = np.random.multivariate_normal(mean2, cov, 50)\n",
    "    X2 = np.vstack((X2, np.random.multivariate_normal(mean4, cov, 50)))\n",
    "    y2 = np.ones(len(X2)) * -1\n",
    "    return X1, y1, X2, y2"
   ]
  },
  {
   "cell_type": "code",
   "execution_count": 69,
   "id": "d7e05fd7-8d4d-4e61-8334-a6bef05e6ea4",
   "metadata": {},
   "outputs": [
    {
     "data": {
      "image/png": "[encoded data removed]",
      "text/plain": [
       "<Figure size 432x288 with 1 Axes>"
      ]
     },
     "metadata": {
      "image/png": {
       "height": 248,
       "width": 377
      },
      "needs_background": "light"
     },
     "output_type": "display_data"
    }
   ],
   "source": [
    "X1, y1, X2, y2, X3, y3 = get_sep_linear_data()\n",
    "plt.plot(X1[:, 0], X1[:, 1], 'r+')\n",
    "plt.plot(X2[:, 0], X2[:, 1], 'bo')\n",
    "plt.plot(X3[:, 0], X3[:, 1], 'gx')\n",
    "\n",
    "X = np.vstack((X1, X2, X3))\n",
    "y = onehot((y1, y2, y3))"
   ]
  },
  {
   "cell_type": "code",
   "execution_count": 71,
   "id": "29e3b448-5e3b-4e82-b7c7-e74fbe9c2498",
   "metadata": {},
   "outputs": [
    {
     "data": {
      "text/plain": [
       "(array([-2.30501323,  9.62072864]), [0, 1, 0])"
      ]
     },
     "execution_count": 71,
     "metadata": {},
     "output_type": "execute_result"
    }
   ],
   "source": [
    "X[0], y[0]"
   ]
  },
  {
   "cell_type": "markdown",
   "id": "36dc23e7-7fcf-4159-9fe3-3de02d3ae07c",
   "metadata": {},
   "source": [
    "## Neural net model"
   ]
  },
  {
   "cell_type": "code",
   "execution_count": 50,
   "id": "d3831148-465f-47d1-ba1b-53b5fa86f000",
   "metadata": {
    "tags": []
   },
   "outputs": [],
   "source": [
    "class NN:\n",
    "    def __init__(self, sizes, epochs = 10, lr = .001):\n",
    "        self.sizes = sizes\n",
    "        self.epochs =  epochs\n",
    "        self.lr = lr\n",
    "\n",
    "        self.params = self.init_params()\n",
    "    \n",
    "    def init_params(self):\n",
    "        in_layer = self.sizes[0]\n",
    "        h1 = self.sizes[1]\n",
    "        h2 = self.sizes[2]\n",
    "        out_layer = self.sizes[3]\n",
    "        \n",
    "        # The weight is not transposed in advance for the convenience, i.e y = XW1 (n x d x d x h1)  \n",
    "        # Assume no bias\n",
    "        \n",
    "        params = {\n",
    "            'W1': np.random.randn(in_layer, h1) * np.sqrt(1/h1),\n",
    "            'W2': np.random.randn(h1, h2) * np.sqrt(1/h2),\n",
    "            'W3': np.random.randn(h2, out_layer) * np.sqrt(1/out_layer),\n",
    "        }\n",
    "        \n",
    "        return params\n",
    "\n",
    "    def relu(self, x, derivative = False):\n",
    "        if derivative:\n",
    "            if x > 0: return 1 \n",
    "            else: return 0\n",
    "        return np.max(x, 0)\n",
    "    \n",
    "    def sigmoid(self, x, derivative = False):\n",
    "        if derivative:\n",
    "            return (np.exp(-x))/((np.exp(-x)+1)**2)\n",
    "        return 1/(1 + np.exp(-x))\n",
    "    \n",
    "    def softmax(self, x):\n",
    "        # Numerically stable with large exponentials\n",
    "        exps = np.exp(x - x.max())\n",
    "        # *Can optimize use log before softmax => LSE\n",
    "        return exps / np.sum(exps, axis=0)\n",
    "    \n",
    "    def forward(self, X):\n",
    "        \"\"\"\n",
    "        Args: \n",
    "            X_train: Input (n x in_layer)\n",
    "        Return:\n",
    "            Output of NN: Y = NN(X) (n x out_layer)\n",
    "        \"\"\"\n",
    "        params = self.params \n",
    "        \n",
    "        params['X']  = X\n",
    "        params['O1'] = np.dot(params['X'], params['W1']) # (n x i x i x h1)\n",
    "        params['Z1'] = self.sigmoid(params['O1'])\n",
    "#         print('params[Z1] ', params['Z1'].shape)\n",
    "        params['O2'] = np.dot(params['Z1'], params['W2']) # (n x h1 x h1 x h2)\n",
    "        params['Z2'] = self.sigmoid(params['O2'])\n",
    "#         print('params[Z2] ', params['Z2'].shape)\n",
    "        params['O3'] = np.dot(params['Z2'], params['W3']) # (n x h2 x h2 x o)\n",
    "        params['Y'] = self.softmax(params['O3'])\n",
    "#         print('params[Y] ', params['Y'].shape)\n",
    "        self.params = {}\n",
    "        self.params = params\n",
    "        \n",
    "        return params['Y']\n",
    "    \n",
    "    def fit(self, X,y):\n",
    "        \n",
    "        self.X_train = X\n",
    "        self.y_train = y\n",
    "        self.update()\n",
    "    \n",
    "    def gradident(self):\n",
    "\n",
    "        \"\"\" \n",
    "        L = - Sum_i(y_i*log(y_i))\n",
    "        dL/dW = softmax(o) - y\n",
    "        \"\"\"\n",
    "        self.forward(self.X_train)\n",
    "        params = self.params\n",
    "\n",
    "        \"\"\"\n",
    "        y_train: (n x out_layer)\n",
    "        \"\"\"\n",
    "        grad = {}\n",
    "        # Y = softmax(O3)\n",
    "        # dL/dO3 = softmax(O3) - y_train\n",
    "#         grad['O3'] = params['Y'] - self.y_train # (n x out_layer)\n",
    "        error = params['Y'] - self.y_train # (n x out_layer)\n",
    "#         print('grad[O3] ', grad['O3'].shape)\n",
    "\n",
    "        # O3 = W3 * Z2\n",
    "        # dL/dW3 = dL/dO3 x dO3/dW3 =dL/dO3 x Z2\n",
    "    \n",
    "#         print('params[Z2] ', params['Z2'].shape)\n",
    "        grad['W3'] = params['Z2'].T.dot(error) # (out_layer x n x n x h2)\n",
    "\n",
    "        \n",
    "#         print('grad[W3] ', grad['W3'].shape)\n",
    "        \n",
    "        # Z2 = Relu(O2)\n",
    "        # O2 = W2 * Z1\n",
    "        # dL/dW2 = dL/dO3 x dO3/dZ2 x dZ2/dO2 x dO2/dW2 = dL/dO3 x W3 x Relu'(O2) x Z1\n",
    "        \n",
    "#         print(\"grad['O3'].dot(params['W3'].T)\", grad['O3'].dot(params['W3'].T).shape)\n",
    "#         print(\"self.sigmoid(params['O2'], derivative = True).T\", self.sigmoid(params['O2'], derivative = True).shape)\n",
    "#         print(\"params['Z1']\", params['Z1'].shape)\n",
    "        grad['W2'] =params['Z1'].T.dot(error.dot(params['W3'].T) \\\n",
    "                    * self.sigmoid(params['O2'], derivative = True))\n",
    "        # (out_layer x n).T x (out_layer x h2) x (h2 x n) x (n x h1))\n",
    "#         print('grad[W2] ', grad['W2'].shape)\n",
    "        \n",
    "        # Z1 = Relu(O1)\n",
    "        # O1 = W1 * I\n",
    "        # dL/dW1 = dL/dO3 x dO3/dZ2 x dZ2/dO2 x dO2/dZ1 x dZ1/dO1 x dO1/dW1 \n",
    "        #        = dL/dO3 x  W3 x  Relu'(O2) x W2 x Relu'(O1) x I\n",
    "#         print(\"grad['O3'].dot(params['W3'].T) * self.sigmoid(params['O2'], derivative = True)\", (grad['O3'].dot(params['W3'].T) * self.sigmoid(params['O2'], derivative = True)).shape)\n",
    "#         print(\"self.relu(params['O1'], derivative = True)\", self.sigmoid(params['O1'], derivative = True).shape)\n",
    "#         print(\"params['W2']\",params['W2'].shape)\n",
    "#         print(\"params['X']\", params['X'].shape)\n",
    "#         print(\"grad['O3'].dot(params['W3'].T)* self.sigmoid(params['O2'], derivative = True)\", (grad['O3'].dot(params['W3'].T)\n",
    "#                                        * self.sigmoid(params['O2'], derivative = True)).dot(params['W2'].T).shape\n",
    "#                                        )\n",
    "\n",
    "        grad['W1'] = params['X'].T.dot((error.dot(params['W3'].T)\n",
    "                                       * self.sigmoid(params['O2'], derivative = True))\n",
    "                                       .dot(params['W2'].T) \n",
    "                                       * self.sigmoid(params['O1'], derivative = True))\n",
    "    \n",
    "#         print('grad[W1] ', grad['W1'].shape)\n",
    "        \n",
    "        self.grad = grad\n",
    "    \n",
    "    def sgd(self, w):\n",
    "        \n",
    "        self.params[w] =self.params[w] - self.lr * self.grad[w]\n",
    "        \n",
    "    def update(self):\n",
    "        for epoch in range(self.epochs):\n",
    "#             self.forward()\n",
    "#             print(\"grad\", self.grad)\n",
    "#             print(\"params\", self.params)\n",
    "#             print(self.params)\n",
    "#             print(self.grad)\n",
    "            self.gradident() # calculate gradient of weights\n",
    "            for w in ['W1', 'W2', 'W3']:\n",
    "                self.sgd(w) # update weights\n",
    "\n",
    "    def cross_entropy():\n",
    "        pass\n",
    "    \n",
    "    def predict(self, X):\n",
    "        return self.forward(X)\n",
    "        \n",
    "    \n",
    "    \n",
    "        \n",
    "        \n",
    "\n",
    "    "
   ]
  },
  {
   "cell_type": "code",
   "execution_count": 65,
   "id": "cd304d3c-a804-45d7-8d0f-068670a3b36b",
   "metadata": {},
   "outputs": [
    {
     "data": {
      "text/plain": [
       "array([0.06706951, 0.9005943 , 0.03233619])"
      ]
     },
     "execution_count": 65,
     "metadata": {},
     "output_type": "execute_result"
    }
   ],
   "source": [
    "mlp = NN([4,5,6,3], epochs=1000)\n",
    "X = np.array([[1,2,3,1], [5,6,4,1]])\n",
    "y = np.array([[1,0,0],[0,1,0]])\n",
    "mlp.fit(X,y)\n",
    "mlp.predict([1,2,3,1])"
   ]
  },
  {
   "cell_type": "code",
   "execution_count": 49,
   "id": "7bfcb9f8-6c89-4eec-9c41-76087523e51c",
   "metadata": {},
   "outputs": [
    {
     "name": "stdout",
     "output_type": "stream",
     "text": [
      "params[Z1]  (2, 4)\n",
      "params[Z2]  (2, 5)\n",
      "params[Y]  (2, 2)\n"
     ]
    },
    {
     "data": {
      "text/plain": [
       "(2, 2)"
      ]
     },
     "execution_count": 49,
     "metadata": {},
     "output_type": "execute_result"
    }
   ],
   "source": [
    "x"
   ]
  },
  {
   "cell_type": "markdown",
   "id": "1841b0e9-9848-4a4e-b392-8ea5c2d577c0",
   "metadata": {},
   "source": [
    "## Refs\n",
    "\n",
    "IBM tutorial\n",
    "\n",
    "https://developer.ibm.com/articles/neural-networks-from-scratch/\n",
    "\n",
    "Theory\n",
    "https://doug919.github.io/notes-on-backpropagation-with-cross-entropy/#mjx-eqn-eqz"
   ]
  }
 ],
 "metadata": {
  "kernelspec": {
   "display_name": "Python 3",
   "language": "python",
   "name": "python3"
  },
  "language_info": {
   "codemirror_mode": {
    "name": "ipython",
    "version": 3
   },
   "file_extension": ".py",
   "mimetype": "text/x-python",
   "name": "python",
   "nbconvert_exporter": "python",
   "pygments_lexer": "ipython3",
   "version": "3.8.10"
  }
 },
 "nbformat": 4,
 "nbformat_minor": 5
}
