{
 "cells": [
  {
   "cell_type": "markdown",
   "id": "239d856d-421f-46b5-8fcf-a4fbb5d9b1ba",
   "metadata": {},
   "source": [
    "# Support Vector Machine (SVM)\n",
    "\n",
    "The main idea of the SVM is to find the maximally separating hyperplane\n",
    "\n"
   ]
  },
  {
   "cell_type": "code",
   "execution_count": 25,
   "id": "00b7beac-ea66-4630-b017-2d6c756ba9f6",
   "metadata": {},
   "outputs": [],
   "source": [
    "import numpy as np\n",
    "import matplotlib.pyplot as plt\n",
    "from matplotlib import style\n",
    "style.use('ggplot')\n",
    "import pandas as pd\n"
   ]
  },
  {
   "cell_type": "code",
   "execution_count": 101,
   "id": "9949ebbd-fe41-41a2-b975-e2d50cf8a196",
   "metadata": {},
   "outputs": [],
   "source": [
    "class SVM:\n",
    "    def __init__(self, visualization = True):\n",
    "        self.visualization = visualization\n",
    "        self.colors = {1:'r', -1:'b'}\n",
    "        if self.visualization:\n",
    "            self.fig = plt.figure()\n",
    "            self.ax = self.fig.add_subplot(1,1,1)\n",
    "\n",
    "    def draw_background(self):\n",
    "        self.__init__()\n",
    "            \n",
    "    def predict(self, features): # Input features\n",
    "        def sign(x):\n",
    "            return -1 if x < 0 else (1 if x > 0 else 0)\n",
    "        print(np.dot(features, self.weights) + self.bias)\n",
    "        classification = sign(np.dot(features, self.weights) + self.bias)\n",
    "        if classification != 0 and self.visualization:\n",
    "            self.ax.scatter(features[0], features[1], s = 200, marker = '*', \\\n",
    "                            color = self.colors[classification])\n",
    "        else:\n",
    "            print('featureset',features,'is on the decision boundary')            \n",
    "        return classification\n",
    "    def visualize(self):\n",
    "        [[self.ax.scatter(x[0], x[1], s = 100, color = self.colors[yi]) \n",
    "                                            for x in data_dict[yi]] \n",
    "                                            for yi in data_dict.keys()]\n",
    "        # Why formula?\n",
    "     \n",
    "        def hyperplane(x, w, b, v):\n",
    "            # v = wx + b\n",
    "            return (-w[0]*x - b + v) / w[1] # known x1 => find x2\n",
    "        \n",
    "        hyp_min_x = self.min_feature_value * 0.9\n",
    "        hyp_max_x = self.max_feature_value * 1.1\n",
    "        \n",
    "        # positive support vextor hyperplane\n",
    "        # w*x + b = 1\n",
    "        psv1 = hyperplane(hyp_min_x, self.weights, self.bias, 1)\n",
    "        psv2 = hyperplane(hyp_max_x, self.weights, self.bias, 1)\n",
    "        self.ax.plot([hyp_min_x, hyp_max_x], [psv1, psv2], 'k')\n",
    "        \n",
    "        # negative support vector hyperplane\n",
    "        # w*x + b = -1\n",
    "        nsv1 = hyperplane(hyp_min_x, self.weights, self.bias, -1)\n",
    "        nsv2 = hyperplane(hyp_max_x, self.weights, self.bias, -1)\n",
    "        self.ax.plot([hyp_min_x, hyp_max_x], [nsv1, nsv2], 'k')\n",
    "        \n",
    "        # decision boundary\n",
    "        # w*x + b = 0\n",
    "        db1 = hyperplane(hyp_min_x, self.weights, self.bias, 0)\n",
    "        db2 = hyperplane(hyp_max_x, self.weights, self.bias, 0)\n",
    "        self.ax.plot([hyp_min_x, hyp_max_x], [db1, db2], '--')\n",
    "        \n",
    "    def fit(self, dataset):\n",
    "        self.dataset = dataset\n",
    "        \n",
    "        # optimization dictionary\n",
    "        # xi.w + b <= -1 if yi = -1 (belongs to -ve class)\n",
    "        # xi.w + b >= +1 if yi = +1 (belongs to +ve class)\n",
    "        # ==> yi(xi.w+b) >= 1\n",
    "        opt_dict ={} # {||w|| : [w,b]} where ||w|| = dist(margin, point)}\n",
    "        \n",
    "        transforms = [[1, 1],\n",
    "                     [-1, 1],\n",
    "                     [1, -1],\n",
    "                     [-1, -1]]\n",
    "        all_data = []\n",
    "        \n",
    "        for yi in self.dataset.keys():\n",
    "            for features in self.dataset[yi]:\n",
    "                for feature in features:\n",
    "                    all_data.append(features)\n",
    "        self.max_feature_value = np.max(all_data)\n",
    "        self.min_feature_value = np.min(all_data)\n",
    "        # no need to keep this memory.\n",
    "        all_data=None\n",
    "        \n",
    "        # Depend on how precise you want to get\n",
    "        step_sizes = [self.max_feature_value * 0.1,\n",
    "                      self.max_feature_value * 0.01,\n",
    "                      # starts getting very high cost after this.\n",
    "                      self.max_feature_value * 0.001]\n",
    "#                      self.max_feature_value * 0.0001,]\n",
    "        \n",
    "        # extremely expensive >>??\n",
    "        b_range_multiple = 5\n",
    "        b_multiple = 5\n",
    "        latest_optimum = self.max_feature_value*10\n",
    "        \n",
    "        for step in step_sizes: # 3\n",
    "            w = np.array([latest_optimum, latest_optimum])\n",
    "            # Convex ??\n",
    "            optimized = False\n",
    "            while not optimized:\n",
    "                for b in np.arange(-1*(self.max_feature_value * b_range_multiple),\n",
    "                                self.max_feature_value * b_range_multiple,\n",
    "                                step * b_multiple): # loop to find b\n",
    "                    for transform in transforms: # loop to find w_t\n",
    "                        w_t = w * transform\n",
    "                        found_option = True \n",
    "                        # weakest link in the SVM fundamentally ?\n",
    "                        # SMO fixed this a bit\n",
    "                        for yi in self.dataset.keys():\n",
    "                            for xi in self.dataset[yi]:\n",
    "                                # yi(xi*w + b) >=1\n",
    "                                if not yi*(np.dot(xi, w_t) + b) >=1: # if one case not \n",
    "                                                                     # satisfy => break all \n",
    "                                    found_option = False\n",
    "                        if found_option:\n",
    "                            opt_dict[np.linalg.norm(w_t)] = [w_t, b]\n",
    "                if w[0] < 0: # Heuristic, w : latest_optimum => 0 is enough to train\n",
    "                    optimized = True\n",
    "                    print ('Optimize a step')\n",
    "                else:\n",
    "                    w = w - step # Move to local optimum\n",
    "                    \n",
    "            # Find the minimum ||w||\n",
    "            norm = sorted([x for x in opt_dict.keys()])\n",
    "            print(norm[0], opt_dict[norm[0]])\n",
    "            opt_params = opt_dict[norm[0]]\n",
    "            self.weights = opt_params[0] # w_t\n",
    "            self.bias = opt_params[1] # b\n",
    "            latest_optimum = opt_params[0][0] + 2*step # Plus 2*step, then \n",
    "                                                    # move back by dist = \n",
    "                                                    # step*0.1 in the next iteration\n",
    "                                                    # to find more precise optimum\n",
    "                        \n",
    "data_dict = {\n",
    "    -1: np.array([[0,5],[2,5],[0,3],[-1,4]]),\n",
    "    1: np.array([[0,0],[-1,-1],[0,-5],[-1,0]])\n",
    "}\n",
    "\n"
   ]
  },
  {
   "cell_type": "code",
   "execution_count": 102,
   "id": "73306d0d-2b56-4c32-a2a0-96ba4fe48388",
   "metadata": {},
   "outputs": [
    {
     "name": "stdout",
     "output_type": "stream",
     "text": [
      "Optimize a step\n",
      "2.1213203435596424 [array([-1.5, -1.5]), 2.5]\n",
      "Optimize a step\n",
      "2.1213203435596424 [array([-1.5, -1.5]), 2.5]\n",
      "Optimize a step\n",
      "1.979898987322333 [array([ 1.4, -1.4]), 3.199999999998397]\n",
      "1.799999999998397\n",
      "0.39999999999839764\n",
      "7.399999999998396\n",
      "1.7999999999983967\n",
      "-1.0000000000016023\n",
      "w0, w1 1.4 -1.4\n",
      "-2.9285714285725737\n",
      "w0, w1 1.4 -1.4\n",
      "7.071428571427426\n",
      "w0, w1 1.4 -1.4\n",
      "-1.5000000000011449\n",
      "w0, w1 1.4 -1.4\n",
      "8.499999999998854\n",
      "w0, w1 1.4 -1.4\n",
      "-2.2142857142868593\n",
      "w0, w1 1.4 -1.4\n",
      "7.785714285713141\n"
     ]
    },
    {
     "data": {
      "image/png": "[encoded data removed]",
      "text/plain": [
       "<Figure size 432x288 with 1 Axes>"
      ]
     },
     "metadata": {},
     "output_type": "display_data"
    }
   ],
   "source": [
    "model = SVM()\n",
    "model.fit(data_dict)\n",
    "test_set = [\n",
    "    [1,2],\n",
    "    [1,3],\n",
    "    [4,1],\n",
    "    [3,4],\n",
    "    [1,4]\n",
    "]\n",
    "for feature in test_set:\n",
    "    model.predict(feature)\n",
    "model.visualize()"
   ]
  },
  {
   "cell_type": "code",
   "execution_count": 68,
   "id": "2edb1c63-1709-46d4-9a02-f105251f93a9",
   "metadata": {},
   "outputs": [
    {
     "data": {
      "image/png": "[encoded data removed]",
      "text/plain": [
       "<Figure size 432x288 with 1 Axes>"
      ]
     },
     "metadata": {},
     "output_type": "display_data"
    }
   ],
   "source": [
    "model.draw()\n",
    "model.visualize()"
   ]
  },
  {
   "cell_type": "code",
   "execution_count": 89,
   "id": "eebce2fc-dda0-4f75-9dd7-0d2322020478",
   "metadata": {},
   "outputs": [
    {
     "name": "stdout",
     "output_type": "stream",
     "text": [
      "1.799999999998397\n",
      "0.39999999999839764\n",
      "7.399999999998396\n",
      "1.7999999999983967\n",
      "-1.0000000000016023\n"
     ]
    }
   ],
   "source": [
    "test_set = [\n",
    "    [1,2],\n",
    "    [1,3],\n",
    "    [4,1],\n",
    "    [3,4],\n",
    "    [1,4]\n",
    "]\n",
    "for feature in test_set:\n",
    "    model.predict(feature)\n",
    "model.visualize()"
   ]
  },
  {
   "cell_type": "code",
   "execution_count": 32,
   "id": "4a89d98e-d8d0-4b87-a4e9-4ebe9be29ca9",
   "metadata": {},
   "outputs": [
    {
     "name": "stdout",
     "output_type": "stream",
     "text": [
      "0.005\n"
     ]
    }
   ],
   "source": [
    "data_dict = {\n",
    "    -1: np.array([[1,5],[2,5],[0,4]]),\n",
    "    1: np.array([[0,0],[-1,-1],[0,-5]])\n",
    "}\n",
    "all_datas = []\n",
    "for yi in data_dict.keys():\n",
    "    for fs in data_dict[yi]:\n",
    "        for f in fs:\n",
    "            all_datas.append(f)\n",
    "print(max(all_datas)*0.001)\n",
    "    "
   ]
  },
  {
   "cell_type": "code",
   "execution_count": 28,
   "id": "8d278c7f-b32d-46b6-a3c0-2dac86326670",
   "metadata": {},
   "outputs": [],
   "source": [
    "import pandas as pd\n",
    "\n",
    "df = pd.read_csv('data/Iris.csv')\n",
    "df = df.drop(['Id'],axis=1)\n",
    "target = df['Species']\n",
    "s = set()\n",
    "for val in target:\n",
    "    s.add(val)\n",
    "s = list(s)\n",
    "rows = list(range(100,150))\n",
    "df = df.drop(df.index[rows])"
   ]
  },
  {
   "cell_type": "code",
   "execution_count": 29,
   "id": "f9230eef-be71-4429-9536-010904cfdbf5",
   "metadata": {},
   "outputs": [
    {
     "data": {
      "image/png": "[encoded data removed]",
      "text/plain": [
       "<Figure size 576x432 with 1 Axes>"
      ]
     },
     "metadata": {},
     "output_type": "display_data"
    }
   ],
   "source": [
    "import matplotlib.pyplot as plt\n",
    "\n",
    "x = df['SepalLengthCm']\n",
    "y = df['PetalLengthCm']\n",
    "\n",
    "setosa_x = x[:50]\n",
    "setosa_y = y[:50]\n",
    "\n",
    "versicolor_x = x[50:]\n",
    "versicolor_y = y[50:]\n",
    "\n",
    "plt.figure(figsize=(8,6))\n",
    "plt.scatter(setosa_x,setosa_y,marker='+',color='green')\n",
    "plt.scatter(versicolor_x,versicolor_y,marker='_',color='red')\n",
    "plt.show()"
   ]
  }
 ],
 "metadata": {
  "kernelspec": {
   "display_name": "Python 3 (ipykernel)",
   "language": "python",
   "name": "python3"
  },
  "language_info": {
   "codemirror_mode": {
    "name": "ipython",
    "version": 3
   },
   "file_extension": ".py",
   "mimetype": "text/x-python",
   "name": "python",
   "nbconvert_exporter": "python",
   "pygments_lexer": "ipython3",
   "version": "3.9.6"
  }
 },
 "nbformat": 4,
 "nbformat_minor": 5
}
