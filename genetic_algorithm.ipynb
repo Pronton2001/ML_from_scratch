{
 "cells": [
  {
   "cell_type": "markdown",
   "source": [
    "# Genetic Algorithm\n",
    "\n",
    "- stochastic global optimization algorithm\n",
    "- inspired by the biological theory of evolution by means of natural selection with a binary representation and simple operators based on genetic recombination and genetic mutations.\n",
    "- one iteration of the algorithm is like an *evolutionary generation*."
   ],
   "metadata": {}
  },
  {
   "cell_type": "code",
   "execution_count": 1,
   "source": [
    "from numpy.random import randint, rand"
   ],
   "outputs": [],
   "metadata": {}
  },
  {
   "cell_type": "markdown",
   "source": [
    "## Genetic Algorithm From Scratch"
   ],
   "metadata": {}
  },
  {
   "cell_type": "code",
   "execution_count": 2,
   "source": [
    "n_pop = 10 # population size\n",
    "n_bits = 5 # number of bits a single candidate solution\n",
    "n_iter = 3 # iteration step\n",
    "\n",
    "# initialize the population (bitstring)\n",
    "pop = [randint(0,2,n_bits).tolist() for _ in range(n_pop)] \n",
    "# tolist(): convert from np.array to list"
   ],
   "outputs": [],
   "metadata": {}
  },
  {
   "cell_type": "code",
   "execution_count": 3,
   "source": [
    "def genetic_object(c):\n",
    "\treturn randint(0,3)\n",
    "scores = [genetic_object(c) for c in pop]\n",
    "scores"
   ],
   "outputs": [
    {
     "output_type": "execute_result",
     "data": {
      "text/plain": [
       "[0, 0, 1, 1, 2, 0, 1, 0, 0, 1]"
      ]
     },
     "metadata": {},
     "execution_count": 3
    }
   ],
   "metadata": {}
  },
  {
   "cell_type": "code",
   "execution_count": 4,
   "source": [
    "def tournament(pop, scores, k=3):\n",
    "    \"\"\"\n",
    "    Get k parents randomly from population and choose the best of 3\n",
    "    \"\"\"\n",
    "    idxs = randint(0, len(pop),k).tolist()\n",
    "    selection_idx = idxs[0]\n",
    "    for idx in idxs:\n",
    "        if scores[idx] <scores[selection_idx]:\n",
    "            selection_idx = idx\n",
    "    return pop[selection_idx]"
   ],
   "outputs": [],
   "metadata": {}
  },
  {
   "cell_type": "code",
   "execution_count": 5,
   "source": [
    "selected = [tournament(pop,scores) for _ in range(len(pop))]\n",
    "selected"
   ],
   "outputs": [
    {
     "output_type": "execute_result",
     "data": {
      "text/plain": [
       "[[0, 0, 1, 0, 0],\n",
       " [0, 0, 1, 1, 0],\n",
       " [0, 0, 0, 1, 0],\n",
       " [0, 0, 1, 0, 0],\n",
       " [1, 1, 0, 1, 1],\n",
       " [0, 0, 1, 1, 0],\n",
       " [1, 1, 1, 0, 0],\n",
       " [0, 0, 1, 0, 0],\n",
       " [1, 1, 0, 1, 1],\n",
       " [0, 0, 1, 0, 0]]"
      ]
     },
     "metadata": {},
     "execution_count": 5
    }
   ],
   "metadata": {}
  },
  {
   "cell_type": "markdown",
   "source": [
    "## Create the next generation with `crossover`"
   ],
   "metadata": {}
  },
  {
   "cell_type": "code",
   "execution_count": 6,
   "source": [
    "def crossover(p1, p2, cross_rate = .95):\n",
    "\t\"\"\"\n",
    "\tCross over the pair (p1, p2) with high probability (.95) \n",
    "\t\"\"\"\n",
    "\tc1 = p1.copy()\n",
    "\tc2 = p2.copy()\n",
    "\t\n",
    "\tif rand() < cross_rate:\n",
    "\t\tcross_point = randint(1,len(p1)-2) # not the end of the string\n",
    "\t\tc1 = p1[cross_point:] + p2[:cross_point]\n",
    "\t\tc2= p2[cross_point:] + p1[:cross_point]\n",
    "\treturn [c1, c2]\n",
    "def mutation(bitstring, mut_rate = .05):\n",
    "\t\"\"\"\n",
    "\tMutation the string with low probability (.05)\n",
    "\t\"\"\"\n",
    "\tfor i in range(len(bitstring)):\n",
    "\t\tif rand() < mut_rate:\n",
    "\t\t\tbitstring[i] = 1- bitstring[i]\n",
    "\treturn bitstring\n",
    "print(pop[0])\n",
    "print(mutation(pop[0]))"
   ],
   "outputs": [
    {
     "output_type": "stream",
     "name": "stdout",
     "text": [
      "[0, 0, 1, 0, 0]\n",
      "[0, 1, 1, 0, 1]\n"
     ]
    }
   ],
   "metadata": {}
  },
  {
   "cell_type": "code",
   "execution_count": 7,
   "source": [
    "def next_gen(pop, r_cross, r_mut):\n",
    "\tselected = [tournament(pop, scores) for _ in range(n_pop)]\n",
    "\t# create the next generation\n",
    "\tchildren = list()\n",
    "\tfor i in range(0, n_pop, 2):\n",
    "\t\t# get selected parents in pairs\n",
    "\t\tp1, p2 = selected[i], selected[i+1]\n",
    "\t\t# crossover and mutation\n",
    "\t\tfor c in crossover(p1, p2, r_cross):\n",
    "\t\t\t# mutation\n",
    "\t\t\tmutation(c, r_mut)\n",
    "\t\t\t# store for next generation\n",
    "\t\t\tchildren.append(c)\n",
    "\treturn children\n",
    "\n",
    "def next_generation(pop, scores):\n",
    "\tselected = [tournament(pop, scores) for _ in range(n_pop)]\n",
    "\tpairs = [[selected[i], selected[i+1]] for i in range(0,n_pop,2)]\n",
    "\tnew_gen = [crossover(p1,p2) for p1, p2 in pairs]\n",
    "\tnew_gen = sum(new_gen,[])\n",
    "\tnew_gen = [mutation(new_gen[i]) for i in range(n_pop)]\n",
    "\treturn new_gen\n",
    "# next_generation(pop), \\\n",
    "# next_gen(pop, .95,.05)"
   ],
   "outputs": [],
   "metadata": {}
  },
  {
   "cell_type": "code",
   "execution_count": 8,
   "source": [
    "pop[0]"
   ],
   "outputs": [
    {
     "output_type": "execute_result",
     "data": {
      "text/plain": [
       "[0, 1, 1, 0, 1]"
      ]
     },
     "metadata": {},
     "execution_count": 8
    }
   ],
   "metadata": {}
  },
  {
   "cell_type": "code",
   "execution_count": 9,
   "source": [
    "def genetic_algorithm(objective, n_pop, n_bits, n_iters, cross_rate, mut_rate):\n",
    "\t\"\"\"\n",
    "\tTournament to select the best parents\n",
    "\tCrossover them, make offsprings\n",
    "\tMutate their offsprings\n",
    "\t\"\"\"\n",
    "\t# Initialize a population\n",
    "\tpop = [randint(0,2,n_bits).tolist() for _ in range(n_pop)]\n",
    "\tbest, best_eval = None, objective(pop[0])\n",
    "\n",
    "\tfor iteration in range(n_iters):\n",
    "\t\t# Calculate scores\n",
    "\t\tscores = [objective(parent) for parent in pop]\n",
    "\n",
    "\t\t# Display the best generation\n",
    "\t\tfor i in range(n_pop):\n",
    "\t\t\tif scores[i] < best_eval:\n",
    "\t\t\t\tbest_eval, best = scores[i], pop[i]\n",
    "\t\t\t\tprint(\">%d: Best generation: f(%s) = %d\" %(iteration, best, best_eval))\n",
    "\n",
    "\t\t# Select the best parent\n",
    "\t\tgood_parents = [tournament(pop,scores) for _ in range(n_pop)]\n",
    "\n",
    "\n",
    "\t\t# Crossover parents and mutation children\n",
    "\t\tchildren = list()\n",
    "\t\tfor i in range(0, n_pop, 2):\n",
    "\t\t\tc = crossover(good_parents[i], good_parents[i+1], cross_rate)\n",
    "\t\t\tchildren.append(mutation(c[0],mut_rate))\n",
    "\t\t\tchildren.append(mutation(c[1],mut_rate))\n",
    "\n",
    "\t\t# Replace old population with new generation\n",
    "\t\tpop = children\n",
    "\treturn best, best_eval"
   ],
   "outputs": [],
   "metadata": {}
  },
  {
   "cell_type": "code",
   "execution_count": 10,
   "source": [
    "# objective function\n",
    "def onemax(x):\n",
    "\treturn -sum(x)"
   ],
   "outputs": [],
   "metadata": {}
  },
  {
   "cell_type": "code",
   "execution_count": 11,
   "source": [
    "n_pop = 100\n",
    "n_bits = 20\n",
    "n_iters = 10\n",
    "mut_rate = 1.0/float(n_bits)\n",
    "cross_rate = 1\n",
    "best, score = genetic_algorithm(onemax, n_pop, n_bits, n_iters, cross_rate, mut_rate)\n",
    "best, score"
   ],
   "outputs": [
    {
     "output_type": "stream",
     "name": "stdout",
     "text": [
      ">0: Best generation: f([1, 1, 0, 1, 0, 1, 1, 1, 1, 1, 0, 0, 0, 1, 0, 1, 0, 1, 0, 1]) = -12\n",
      ">0: Best generation: f([1, 0, 0, 0, 0, 1, 1, 1, 1, 1, 1, 1, 1, 1, 0, 1, 1, 1, 1, 1]) = -15\n",
      ">0: Best generation: f([1, 1, 1, 1, 1, 0, 1, 1, 1, 1, 1, 0, 1, 1, 1, 1, 0, 0, 1, 1]) = -16\n",
      ">2: Best generation: f([0, 0, 1, 1, 1, 1, 1, 1, 1, 1, 1, 0, 1, 1, 1, 1, 1, 1, 1, 1]) = -17\n",
      ">3: Best generation: f([1, 1, 1, 1, 1, 1, 1, 1, 1, 1, 1, 1, 1, 1, 0, 1, 1, 1, 1, 0]) = -18\n",
      ">6: Best generation: f([1, 1, 1, 1, 1, 1, 1, 1, 1, 1, 1, 1, 1, 1, 1, 1, 0, 1, 1, 1]) = -19\n",
      ">6: Best generation: f([1, 1, 1, 1, 1, 1, 1, 1, 1, 1, 1, 1, 1, 1, 1, 1, 1, 1, 1, 1]) = -20\n"
     ]
    },
    {
     "output_type": "execute_result",
     "data": {
      "text/plain": [
       "([1, 1, 1, 1, 1, 1, 1, 1, 1, 1, 1, 1, 1, 1, 1, 1, 1, 1, 1, 1], -20)"
      ]
     },
     "metadata": {},
     "execution_count": 11
    }
   ],
   "metadata": {}
  },
  {
   "cell_type": "markdown",
   "source": [
    "## Optimize a continuous function"
   ],
   "metadata": {}
  },
  {
   "cell_type": "code",
   "execution_count": 130,
   "source": [
    "def objective(x):\n",
    "\treturn x[0]**2.0 + x[1]**2"
   ],
   "outputs": [],
   "metadata": {}
  },
  {
   "cell_type": "code",
   "execution_count": 13,
   "source": [
    "# bits per variable \n",
    "n_bits = 16\n",
    "\n",
    "# Define range of 2 variables\n",
    "bounds = [[-.5,.5],[-.5,.5]]\n",
    "\n",
    "# Update mut_rate due to 2 variables\n",
    "mut_rate = 1.0/float(n_bits * len(bounds))\n",
    "\n",
    "n_pop = 10\n",
    "# Initial population of random bitstring\n",
    "pop = [randint(0, 2, n_bits*len(bounds)).tolist() for _ in range(n_pop)]"
   ],
   "outputs": [],
   "metadata": {}
  },
  {
   "cell_type": "code",
   "execution_count": 131,
   "source": [
    "# Decode from stringbits to float number in defined range\n",
    "def decode(bounds, n_bits, bitstring):\n",
    "\tdecoded = list()\n",
    "\tupper_bound = 2**(n_bits)\n",
    "\tfor i, bound in enumerate(bounds):\n",
    "\t\t\n",
    "\t\t#divide into substring\n",
    "\t\tsub_bitstring = bitstring[i*n_bits:(i+1)*n_bits]\n",
    "\t\t\n",
    "\t\t# convert sub_bitstring to string of bits\n",
    "\t\tstring_number = ''.join(str(bit) for bit in sub_bitstring)\n",
    "\n",
    "\t\t# convert string of bits into decimal\n",
    "\t\tnumber = int(string_number, base=2)\n",
    "\n",
    "\t\t# scale decimal number into desired range\n",
    "\t\tnumber = bound[0] + (bound[1]- bound[0]) * (number/upper_bound)\n",
    "\t\tdecoded.append(number)\n",
    "\treturn decoded\n",
    "decode(bounds, n_bits,pop[2])"
   ],
   "outputs": [
    {
     "output_type": "execute_result",
     "data": {
      "text/plain": [
       "[-0.066497802734375, -0.2984466552734375]"
      ]
     },
     "metadata": {},
     "execution_count": 131
    }
   ],
   "metadata": {}
  },
  {
   "cell_type": "code",
   "execution_count": 238,
   "source": [
    "def genetic_algorithm(objective, n_pop, n_bits, n_iters, cross_rate, mut_rate, bounds):\n",
    "\t\"\"\"\n",
    "\tTournament to select the best parents\n",
    "\tCrossover them, make offsprings\n",
    "\tMutate their offsprings\n",
    "\t\"\"\"\n",
    "\t# Initialize a population\n",
    "\tpop = [randint(0,2,n_bits*len(bounds)).tolist() for _ in range(n_pop)]\n",
    "\tbest, best_eval = None, objective(decode(bounds, n_bits, pop[0]))\n",
    "\tprint(\"Initial best_eval: %f\" % best_eval)\n",
    "\tfor iteration in range(n_iters):\n",
    "\t\t# Calculate scores\n",
    "\t\tdecoded = [decode(bounds,n_bits, parent) for parent in pop]\n",
    "\t\tscores = [objective(parent) for parent in decoded]\n",
    "\n",
    "\t\t# # Display the best generation\n",
    "\t\tfor i in range(n_pop):\n",
    "\t\t\tif scores[i] < best_eval:\n",
    "\t\t\t\tbest_eval, best = scores[i], pop[i]\n",
    "\t\t\t\tprint(\">%d: Best generation: f(%s) = %f\" %(iteration, decode(bounds, n_bits, best), best_eval))\n",
    "\n",
    "\t\t# Select the best parent\n",
    "\t\tgood_parents = [tournament(pop,scores) for _ in range(n_pop)]\n",
    "\n",
    "\t\t# Crossover parents and mutation children\n",
    "\t\tchildren = list()\n",
    "\t\tfor i in range(0, n_pop, 2):\n",
    "\t\t\tc = crossover(good_parents[i], good_parents[i+1], cross_rate)\n",
    "\t\t\tchildren.append(mutation(c[0],mut_rate))\n",
    "\t\t\tchildren.append(mutation(c[1],mut_rate))\n",
    "\n",
    "\t\t# Replace old population with new generation\n",
    "\t\tpop = children\n",
    "\treturn best, best_eval"
   ],
   "outputs": [],
   "metadata": {}
  },
  {
   "cell_type": "code",
   "execution_count": 240,
   "source": [
    "def genetic_algorithm(objective, n_pop, n_bits, n_iters, cross_rate, mut_rate, bounds):\n",
    "\t\"\"\"\n",
    "\tTournament to select the best parents\n",
    "\tCrossover them, make offsprings\n",
    "\tMutate their offsprings\n",
    "\t\"\"\"\n",
    "\t# Initialize a population\n",
    "\tpop = [randint(0,2,n_bits*len(bounds)).tolist() for _ in range(n_pop)]\n",
    "\tbest, best_eval = None, objective(decode(bounds, n_bits, pop[0]))\n",
    "\tprint(\"Initial best_eval: %f\" % best_eval)\n",
    "\tfor iteration in range(n_iters):\n",
    "\t\t# Calculate scores\n",
    "\t\tdecoded = [decode(bounds,n_bits, parent) for parent in pop]\n",
    "\t\tscores = [objective(parent) for parent in decoded]\n",
    "\n",
    "\t\t# # Display the best generation\n",
    "\t\t# for i in range(n_pop):\n",
    "\t\t# \tif scores[i] < best_eval:\n",
    "\t\t# \t\tbest_eval, best = scores[i], pop[i]\n",
    "\t\t# \t\tprint(\">%d: Best generation: f(%s) = %f\" %(iteration, decode(bounds, n_bits, best), best_eval))\n",
    "\n",
    "\t\t# Select the best parent\n",
    "\t\tgood_parents = [tournament(pop,scores) for _ in range(n_pop)]\n",
    "\n",
    "\t\t# Crossover parents and mutation children\n",
    "\t\tchildren = list()\n",
    "\t\tfor i in range(0, n_pop, 2):\n",
    "\t\t\tc = crossover(good_parents[i], good_parents[i+1], cross_rate)\n",
    "\t\t\tchildren.append(mutation(c[0],mut_rate))\n",
    "\t\t\tchildren.append(mutation(c[1],mut_rate))\n",
    "\n",
    "\t\t# Replace old population with new generation\n",
    "\t\tpop = children\n",
    "\treturn pop"
   ],
   "outputs": [],
   "metadata": {}
  },
  {
   "cell_type": "code",
   "execution_count": 242,
   "source": [
    "# bits per variable \n",
    "n_bits = 16\n",
    "\n",
    "# Define range of 2 variables\n",
    "bounds = [[-5.,5.],[-5.,5.]]\n",
    "# bounds = [[-.5,.5],[-.5,.5]]\n",
    "\n",
    "# Update mut_rate due to 2 variables\n",
    "mut_rate = 1.0/float(n_bits * len(bounds))\n",
    "\n",
    "# Initial population of random bitstring\n",
    "pop = [randint(0, 2, n_bits*len(bounds)).tolist() for _ in range(n_pop)]\n",
    "\n",
    "n_pop = 100\n",
    "# n_iters=100\n",
    "\n",
    "# best, score = genetic_algorithm(objective, n_pop, n_bits, n_iters, cross_rate, mut_rate, bounds)\n",
    "\n",
    "# decoded = decode(bounds, n_bits, best)\n",
    "# print('f(%s) = %f' % (decoded, score))\n",
    "best, best_eval = None, objective(decode(bounds, n_bits, pop[0]))\n",
    "new_pop = genetic_algorithm(objective, n_pop, n_bits, n_iters, cross_rate, mut_rate, bounds)\n",
    "decoded = [decode(bounds,n_bits, parent) for parent in new_pop]\n",
    "scores = [objective(parent) for parent in decoded]\n",
    "for i in range(n_pop):\n",
    "\tif scores[i] < best_eval:\n",
    "\t\tbest_eval, best = scores[i], pop[i]\n",
    "\t\tprint(\"Best generation: f(%s) = %f\" %(decode(bounds, n_bits, best), best_eval))"
   ],
   "outputs": [
    {
     "output_type": "stream",
     "name": "stdout",
     "text": [
      "Initial best_eval: 0.635065\n",
      "Best generation: f([4.6844482421875, -0.81024169921875]) = 3.281801\n",
      "Best generation: f([0.9991455078125, -3.186187744140625]) = 1.839268\n",
      "Best generation: f([1.506500244140625, 3.798828125]) = 1.756257\n",
      "Best generation: f([-2.921600341796875, 4.54986572265625]) = 0.603781\n"
     ]
    }
   ],
   "metadata": {}
  },
  {
   "cell_type": "code",
   "execution_count": 134,
   "source": [
    "# genetic algorithm\n",
    "def genetic_algorithm(objective, bounds, n_bits, n_iter, n_pop, r_cross, r_mut):\n",
    "\t# initial population of random bitstring\n",
    "\tpop = [randint(0, 2, n_bits*len(bounds)).tolist() for _ in range(n_pop)]\n",
    "\t# keep track of best solution\n",
    "\tbest, best_eval = 0, objective(decode(bounds, n_bits, pop[0]))\n",
    "\t# enumerate generations\n",
    "\tfor gen in range(n_iter):\n",
    "\t\t# decode population\n",
    "\t\tdecoded = [decode(bounds, n_bits, p) for p in pop]\n",
    "\t\t# evaluate all candidates in the population\n",
    "\t\tscores = [objective(d) for d in decoded]\n",
    "\t\t# check for new best solution\n",
    "\t\tfor i in range(n_pop):\n",
    "\t\t\tif scores[i] < best_eval:\n",
    "\t\t\t\tbest, best_eval = pop[i], scores[i]\n",
    "\t\t\t\tprint(\">%d, new best f(%s) = %f\" % (gen,  decoded[i], scores[i]))\n",
    "\t\t# select parents\n",
    "\t\tselected = [tournament(pop, scores) for _ in range(n_pop)]\n",
    "\t\t# create the next generation\n",
    "\t\tchildren = list()\n",
    "\t\tfor i in range(0, n_pop, 2):\n",
    "\t\t\t# get selected parents in pairs\n",
    "\t\t\tp1, p2 = selected[i], selected[i+1]\n",
    "\t\t\t# crossover and mutation\n",
    "\t\t\tfor c in crossover(p1, p2, r_cross):\n",
    "\t\t\t\t# mutation\n",
    "\t\t\t\tmutation(c, r_mut)\n",
    "\t\t\t\t# store for next generation\n",
    "\t\t\t\tchildren.append(c)\n",
    "\t\t# replace population\n",
    "\t\tpop = children\n",
    "\treturn [best, best_eval]"
   ],
   "outputs": [],
   "metadata": {}
  },
  {
   "cell_type": "code",
   "execution_count": 139,
   "source": [
    "# define range for input\n",
    "bounds = [[-5.0, 5.0], [-5.0, 5.0]]\n",
    "\n",
    "# define the total iterations\n",
    "n_iter = 100\n",
    "# bits per variable\n",
    "n_bits = 16\n",
    "# define the population size\n",
    "n_pop = 100\n",
    "# crossover rate\n",
    "r_cross = 0.9\n",
    "# mutation rate\n",
    "r_mut = 1.0 / (float(n_bits) * len(bounds))\n",
    "# perform the genetic algorithm search\n",
    "best, score = genetic_algorithm(objective, bounds, n_bits, n_iter, n_pop, r_cross, r_mut)\n",
    "print('Done!')\n",
    "decoded = decode(bounds, n_bits, best)\n",
    "print('f(%s) = %f' % (decoded, score))"
   ],
   "outputs": [
    {
     "output_type": "stream",
     "name": "stdout",
     "text": [
      ">0, new best f([-0.1839599609375, -0.066558837890625]) = 0.038271\n",
      ">0, new best f([-0.1089935302734375, -0.1454010009765625]) = 0.033021\n",
      ">0, new best f([-0.1487579345703125, -0.051605224609375]) = 0.024792\n",
      ">0, new best f([-0.0820465087890625, -0.0667572021484375]) = 0.011188\n",
      ">0, new best f([0.0817108154296875, 0.001983642578125]) = 0.006681\n",
      ">1, new best f([0.0049285888671875, 0.06390380859375]) = 0.004108\n",
      ">3, new best f([-0.03094482421875, -0.0252227783203125]) = 0.001594\n",
      ">16, new best f([-0.0173187255859375, -0.0034637451171875]) = 0.000312\n",
      ">17, new best f([-0.010345458984375, -0.0108795166015625]) = 0.000225\n",
      ">19, new best f([-0.006744384765625, 0.011505126953125]) = 0.000178\n",
      ">80, new best f([-0.0091094970703125, -0.0012664794921875]) = 0.000085\n",
      ">89, new best f([-0.0008697509765625, 0.003875732421875]) = 0.000016\n",
      "Done!\n",
      "f([-0.0008697509765625, 0.003875732421875]) = 0.000016\n"
     ]
    }
   ],
   "metadata": {}
  },
  {
   "cell_type": "markdown",
   "source": [
    "## Refs\n",
    "https://machinelearningmastery.com/simple-genetic-algorithm-from-scratch-in-python/"
   ],
   "metadata": {}
  }
 ],
 "metadata": {
  "interpreter": {
   "hash": "28f96ec01d3331ab2b5d4a1bb32d02e762004829634cea2cd2eeaefdb8bb653c"
  },
  "kernelspec": {
   "name": "python3",
   "display_name": "Python 3.8.10 64-bit ('mp_env': venv)"
  },
  "language_info": {
   "codemirror_mode": {
    "name": "ipython",
    "version": 3
   },
   "file_extension": ".py",
   "mimetype": "text/x-python",
   "name": "python",
   "nbconvert_exporter": "python",
   "pygments_lexer": "ipython3",
   "version": "3.8.10"
  }
 },
 "nbformat": 4,
 "nbformat_minor": 2
}