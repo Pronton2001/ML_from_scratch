{
 "cells": [
  {
   "cell_type": "markdown",
   "metadata": {},
   "source": [
    "# Random Forest Regressor from scratch"
   ]
  },
  {
   "cell_type": "markdown",
   "metadata": {
    "tags": []
   },
   "source": [
    "## Why Random Forest?\n",
    "`Decision tree` is susceptible to high variance if it is not pruned. \n",
    "\n",
    "`Bagging` is the combination of many Decision Tree models, and the prediction follows the crowd; but these tree are highly correlated.\n",
    "\n",
    "`Random Forest`, the extension of `Bagging`, constrains the features that can be used to build the trees, forcing trees to be different. This, in turn, can give a lift in performance.\n",
    "\n",
    "`Bagging` and `Random Forest` execute Decision Tree upon a sample with replacement of the training dataset. **Sample with replacement** means that the same row may be chosen and added to samples more than once.\n",
    "\n",
    "Of that training sample, one-third of it is set aside as test data, known as the out-of-bag (`oob`) sample, used for cross-validation, finalizing that prediction.\n",
    "\n",
    "**Key Benefits**\n",
    "- Reduced risk of **overfitting**: Averaging of **uncorrelated trees** lowers the overall **variance** and prediction **error**\n",
    "- Provides flexibility: Handle both **regression** and **classification** tasks with a high degree of accuracy\n",
    "- Easy to determine **feature importance**: Gini importance, mean decrease in impurity (MDI) and permutation importance known as mean decrease accuracy (MDA)\n",
    "\n",
    "**Key Challenges**\n",
    "- Time-consuming process\n",
    "- Requires more resources\n",
    "- More complex"
   ]
  },
  {
   "cell_type": "code",
   "execution_count": 39,
   "metadata": {},
   "outputs": [],
   "source": [
    "from csv import reader\n",
    "from math import log,sqrt\n",
    "from random import randrange, seed\n",
    "from statistics import mode\n",
    "import numpy as np\n",
    "import matplotlib.pyplot as plt\n",
    "import warnings\n",
    "import time"
   ]
  },
  {
   "cell_type": "code",
   "execution_count": 14,
   "metadata": {},
   "outputs": [],
   "source": [
    "dataset = [[2.771244718, 1.784783929, 0],\n",
    "           [1.728571309, 1.169761413, 0.1],\n",
    "           [3.678319846, 2.81281357, 0.2],\n",
    "           [3.961043357, 2.61995032, -0.1],\n",
    "           [2.999208922, 2.209014212, 0.3],\n",
    "           [7.497545867, 3.162953546, 1.1],\n",
    "           [9.00220326, 3.339047188, 1.2],\n",
    "           [7.444542326, 0.476683375, 1.9],\n",
    "           [10.12493903, 3.234550982, 0.9],\n",
    "           [6.642287351, 3.319983761, 1.6]]"
   ]
  },
  {
   "cell_type": "markdown",
   "metadata": {
    "jp-MarkdownHeadingCollapsed": true,
    "tags": []
   },
   "source": [
    "## Calculating splits"
   ]
  },
  {
   "cell_type": "code",
   "execution_count": 15,
   "metadata": {},
   "outputs": [
    {
     "name": "stdout",
     "output_type": "stream",
     "text": [
      "0.4714045207910317\n",
      "0.4444444444444444\n"
     ]
    }
   ],
   "source": [
    "def split_criteria(y, criteria = 'std'):\n",
    "    \"\"\"\n",
    "    split_criteria([1,2,3,4,3], 'std') = std([1,2,3,4,3])\n",
    "    \"\"\"\n",
    "    if criteria == 'std':\n",
    "        if len(y) == 0: return 0\n",
    "        return np.std(y)\n",
    "    if criteria == 'mae':\n",
    "        u = np.mean(y)\n",
    "        return np.mean(np.abs(u - y))\n",
    "\n",
    "group_targets = [[1,2,1],[1,1,2]]\n",
    "s1, s2 = group_targets\n",
    "print(split_criteria(s1, 'std'))\n",
    "print(split_criteria(s1, 'mae'))"
   ]
  },
  {
   "cell_type": "code",
   "execution_count": 16,
   "metadata": {
    "tags": []
   },
   "outputs": [
    {
     "data": {
      "text/plain": [
       "{'attribute': 0,\n",
       " 'value': 6.642287351,\n",
       " 'groups': ([[2.771244718, 1.784783929, 0],\n",
       "   [1.728571309, 1.169761413, 0.1],\n",
       "   [3.678319846, 2.81281357, 0.2],\n",
       "   [3.961043357, 2.61995032, -0.1],\n",
       "   [2.999208922, 2.209014212, 0.3]],\n",
       "  [[7.497545867, 3.162953546, 1.1],\n",
       "   [9.00220326, 3.339047188, 1.2],\n",
       "   [7.444542326, 0.476683375, 1.9],\n",
       "   [10.12493903, 3.234550982, 0.9],\n",
       "   [6.642287351, 3.319983761, 1.6]])}"
      ]
     },
     "execution_count": 16,
     "metadata": {},
     "output_type": "execute_result"
    }
   ],
   "source": [
    "def test_split(index, value, dataset):\n",
    "    \"\"\"\n",
    "    Split a dataset based on an attribute and an attribute value.\n",
    "    Complexity: O(#rows)\n",
    "    \"\"\"\n",
    "    left, right = list(), list()\n",
    "    for row in dataset:\n",
    "        if row[index] < value:\n",
    "            left.append(row)\n",
    "        else:\n",
    "            right.append(row)\n",
    "    return left, right\n",
    "\n",
    "def get_split(dataset, n_features, criteria):\n",
    "    \"\"\"\n",
    "    This heuristic algorithm loops all rows (samples) and column (attributes), thus it is painful for computing.\n",
    "    Complexity: O(#rows^2 x #columns) x O(gini_index)\n",
    "    \"\"\"\n",
    "    attributes = len(dataset[0]) - 1\n",
    "    retAttribute, retValue, retGroups, min_loss = None, None, None, 999\n",
    "\n",
    "    features = list()\n",
    "    counter = 0\n",
    "    while counter < n_features:\n",
    "        index = randrange(len(dataset[0])-1)\n",
    "        if index not in features:\n",
    "            counter = counter + 1\n",
    "            features.append(index)\n",
    "    for row in dataset:\n",
    "        for attribute in features:\n",
    "            group_left, group_right = test_split(attribute, row[attribute], dataset)\n",
    "#             group_left, group_right = groups\n",
    "            target_left = [row[-1] for row in group_left]\n",
    "            target_right = [row[-1] for row in group_right]\n",
    "\n",
    "            total = len(target_left) + len(target_right)\n",
    "            pL = len(target_left) / total\n",
    "            \n",
    "            loss =  pL * split_criteria(target_left, criteria) + (1 - pL) * split_criteria(target_right, criteria)\n",
    "            if loss < min_loss:\n",
    "                min_loss = loss\n",
    "                retAttribute, retValue, retGroups = attribute, row[attribute], (group_left, group_right)\n",
    "    return {'attribute': retAttribute, 'value': retValue, 'groups': retGroups}\n",
    "\n",
    "get_split(dataset, 2, 'std')\n"
   ]
  },
  {
   "cell_type": "code",
   "execution_count": 17,
   "metadata": {},
   "outputs": [],
   "source": [
    "def to_terminal(group):\n",
    "    assert group, 'group should not be empty'\n",
    "    outcomes = [row[-1] for row in group]\n",
    "    return np.mean(outcomes)  # mean of predictions\n",
    "\n",
    "def split(node, max_depth, min_size, depth, n_features, criteria):\n",
    "    left, right = node['groups']\n",
    "    del(node['groups'])\n",
    "    # check for a no split\n",
    "    if not left or not right:  # left or right is empty list\n",
    "        node['left'] = node['right'] = to_terminal(left + right)\n",
    "        return\n",
    "    # check for max depth\n",
    "    if depth >= max_depth:\n",
    "        node['left'], node['right'] = to_terminal(left), to_terminal(right)\n",
    "        return\n",
    "    # process left child\n",
    "    if len(left) <= min_size:\n",
    "        node['left'] = to_terminal(left)\n",
    "    else:\n",
    "        node['left'] = get_split(left, n_features, criteria)\n",
    "        split(node['left'], max_depth, min_size, depth+1, n_features, criteria)\n",
    "    # process right child\n",
    "    if len(right) <= min_size:\n",
    "        node['right'] = to_terminal(right)\n",
    "    else:\n",
    "        node['right'] = get_split(right, n_features, criteria)\n",
    "        split(node['right'], max_depth, min_size, depth+1, n_features, criteria)"
   ]
  },
  {
   "cell_type": "markdown",
   "metadata": {
    "jp-MarkdownHeadingCollapsed": true,
    "tags": []
   },
   "source": [
    "## Build a tree"
   ]
  },
  {
   "cell_type": "code",
   "execution_count": 18,
   "metadata": {},
   "outputs": [
    {
     "name": "stdout",
     "output_type": "stream",
     "text": [
      "[X2 < 3.163]\n",
      "--[X2 < 1.170]\n",
      "----[1.9]\n",
      "----[X1 < 3.961]\n",
      "------[X2 < 2.209]\n",
      "--------[X1 < 2.771]\n",
      "----------[0.1]\n",
      "----------[0.0]\n",
      "--------[X1 < 3.678]\n",
      "----------[0.3]\n",
      "----------[0.2]\n",
      "------[-0.1]\n",
      "--[X1 < 7.498]\n",
      "----[1.6]\n",
      "----[X1 < 10.125]\n",
      "------[X1 < 9.002]\n",
      "--------[1.1]\n",
      "--------[1.2]\n",
      "------[0.9]\n"
     ]
    }
   ],
   "source": [
    "def build_tree(train_set, max_depth, min_size, n_features, criteria = 'std'):\n",
    "\troot = get_split(train_set, n_features, criteria)\n",
    "\tsplit(root, max_depth, min_size, 0, n_features, criteria)\n",
    "\treturn root\n",
    "\n",
    "def print_tree(node, depth=0):\n",
    "    if isinstance(node, dict):\n",
    "        print('%s[X%d < %.3f]' %\n",
    "              ((depth*'-', (node['attribute']+1), node['value'])))\n",
    "        print_tree(node['left'], depth+2)\n",
    "        print_tree(node['right'], depth+2)\n",
    "    else:\n",
    "        print('%s[%s]' % ((depth*'-', node)))  # This is cool!\n",
    "\n",
    "\n",
    "tree = build_tree(dataset, 6, 1, 1, 'std')\n",
    "print_tree(tree)"
   ]
  },
  {
   "cell_type": "code",
   "execution_count": 19,
   "metadata": {},
   "outputs": [],
   "source": [
    "def predict(tree, input_row):  # input is row of testset\n",
    "    if input_row[tree['attribute']] < tree['value']:\n",
    "        if isinstance(tree['left'], dict):\n",
    "            return predict(tree['left'], input_row)\n",
    "        else:\n",
    "            return tree['left']\n",
    "    else:\n",
    "        if isinstance(tree['right'], dict):\n",
    "            return predict(tree['right'], input_row)\n",
    "        else:\n",
    "            return tree['right']\n",
    "\n",
    "# Root Mean Square Error\n",
    "def rmse(y, y_hat):\n",
    "    if not isinstance(y, np.ndarray):\n",
    "        y, y_hat = np.array(y), np.array(y_hat)\n",
    "    return np.mean((y - y_hat)**2)"
   ]
  },
  {
   "cell_type": "markdown",
   "metadata": {
    "jp-MarkdownHeadingCollapsed": true,
    "tags": []
   },
   "source": [
    "## Build a forest"
   ]
  },
  {
   "cell_type": "code",
   "execution_count": 20,
   "metadata": {},
   "outputs": [
    {
     "name": "stdout",
     "output_type": "stream",
     "text": [
      "[0.12, 0.54, 0.3]\n"
     ]
    }
   ],
   "source": [
    "def subsample_idx(data_size, sample_size):\n",
    "    \"\"\"\n",
    "    Retrieve from the `dataset` indices *randomly* with `sample_size`\n",
    "    \"\"\"\n",
    "    sample_indices = list()\n",
    "    counter = 0\n",
    "    while(counter < sample_size):\n",
    "        index = randrange(data_size)\n",
    "        sample_indices.append(index)\n",
    "        counter += 1\n",
    "    return sample_indices\n",
    "\n",
    "def bagging_predict(trees, row):\n",
    "    return np.mean([predict(tree, row) for tree in trees])  # mean of trees' predictions\n",
    "\n",
    "def random_forest(train_set, test_set, max_depth, min_size, n_features, n_trees, sample_size, criteria):\n",
    "    trees = list()\n",
    "    for i in range(n_trees):\n",
    "        sample_indices = subsample_idx(len(train_set), sample_size)\n",
    "        sample = [train_set[i] for i in sample_indices]\n",
    "        tree = build_tree(sample, max_depth, min_size, n_features, criteria)\n",
    "        trees.append(tree)\n",
    "    predictions = [bagging_predict(trees, row) for row in test_set]\n",
    "    return predictions\n",
    "\n",
    "print(random_forest(dataset[:int(len(dataset)*7/10)], dataset[int(len(dataset)*7/10):], 5, 1, 1, 5, 4, 'std'))"
   ]
  },
  {
   "cell_type": "markdown",
   "metadata": {
    "tags": []
   },
   "source": [
    "## Out-of-bag error"
   ]
  },
  {
   "cell_type": "markdown",
   "metadata": {},
   "source": [
    "R² score, the coefficient of determination\n",
    "\n",
    "$$R^2(y, \\hat{y}) = 1 - \\frac{\\sum_{i=1}^{n} (y_i - \\hat{y}_i)^2}{\\sum_{i=1}^{n} (y_i - \\bar{y})^2}$$\n",
    "\n",
    "Upperbound (1), lowerbound(may be negative - arbitrarily worse)"
   ]
  },
  {
   "cell_type": "code",
   "execution_count": 31,
   "metadata": {},
   "outputs": [
    {
     "data": {
      "text/plain": [
       "array([2, 5, 6])"
      ]
     },
     "execution_count": 31,
     "metadata": {},
     "output_type": "execute_result"
    }
   ],
   "source": [
    "def r2_score(y, y_hat):\n",
    "        y_mean = np.mean(y)\n",
    "        error_sqr = np.sum((y - y_hat)**2) # error square\n",
    "        denom = np.sum((y - y_mean)**2)\n",
    "        R2 = 1 - error_sqr / denom\n",
    "        return R2\n",
    "y = np.array([1,2,99,4,4,5])\n",
    "y_hat = np.array([1,2,3,4,99,-10000])\n",
    "r2_score(y, y_hat)"
   ]
  },
  {
   "cell_type": "code",
   "execution_count": 47,
   "metadata": {},
   "outputs": [],
   "source": [
    "def oob_classifier_r2_score(train_set, max_depth, min_size, n_features, n_trees, sample_size, criteria):\n",
    "    X_train = np.array([x[:-1] for x in train_set])\n",
    "    y_train = np.array([x[-1] for x in train_set])\n",
    "    n_samples = len(X_train)\n",
    "\n",
    "    predictions = np.zeros(n_samples)\n",
    "    n_predictions = np.zeros(n_samples)\n",
    "    \n",
    "    for i in range(n_trees):\n",
    "        # Sampling and collect out-of-bag(oob) indices\n",
    "        sample_indices = subsample_idx(len(train_set), sample_size)\n",
    "        oob_indices = np.array([i for i in range(n_samples) if i not in sample_indices])\n",
    "        \n",
    "        # Build a tree\n",
    "        sample = [train_set[i] for i in sample_indices]\n",
    "        tree = build_tree(sample, max_depth, min_size, n_features, criteria)\n",
    "        \n",
    "        # Accumulate prediction value and prediction number over OOB dataset\n",
    "        tree_preds = [predict(tree, X_train[idx]) for idx in oob_indices]\n",
    "        predictions[oob_indices] += tree_preds\n",
    "        n_predictions[oob_indices] +=1\n",
    "\n",
    "        # Check to avoid divide by zero\n",
    "        if (n_predictions == 0).any():\n",
    "            warnings.warn(\"Too few trees; some variables do not have OOB scores.\")\n",
    "            n_predictions[n_predictions == 0] = 1\n",
    "            \n",
    "    predictions /= n_predictions\n",
    "    return r2_score(y_train, predictions)"
   ]
  },
  {
   "cell_type": "markdown",
   "metadata": {
    "tags": []
   },
   "source": [
    "## Work with real data"
   ]
  },
  {
   "cell_type": "code",
   "execution_count": 23,
   "metadata": {},
   "outputs": [],
   "source": [
    "# Load a CSV file\n",
    "def load_csv(filename):\n",
    "    file = open(filename, \"rt\")\n",
    "    lines = reader(file)\n",
    "    dataset = list(lines)\n",
    "    return dataset\n",
    "\n",
    "# Convert string column to float\n",
    "def str_column_to_float(dataset, column):\n",
    "    for row in dataset:\n",
    "        row[column] = float(row[column])\n",
    "\n",
    "# Convert string column to integer\n",
    "def str_column_to_int(dataset, column):\n",
    "\tclass_values = [row[column] for row in dataset]\n",
    "\tunique = set(class_values)\n",
    "\tlookup = dict()\n",
    "\tfor i, value in enumerate(unique):\n",
    "\t\tlookup[value] = i\n",
    "\tfor row in dataset:\n",
    "\t\trow[column] = lookup[row[column]]\n",
    "\treturn lookup\n",
    "\n",
    "# Split a dataset into k folds\n",
    "def cross_validation_split(dataset, n_folds):\n",
    "    dataset_split = list()\n",
    "    dataset_copy = list(dataset)\n",
    "    fold_size = int(len(dataset) / n_folds)\n",
    "    for i in range(n_folds):\n",
    "        fold = list()\n",
    "        while len(fold) < fold_size:\n",
    "            index = randrange(len(dataset_copy))\n",
    "            fold.append(dataset_copy.pop(index))\n",
    "        dataset_split.append(fold)\n",
    "    return dataset_split\n",
    "\n",
    "# Calculate accuracy percentage\n",
    "def accuracy_metric(actual, predicted):\n",
    "    correct = 0\n",
    "    for i in range(len(actual)):\n",
    "        if actual[i] == predicted[i]:\n",
    "            correct += 1\n",
    "    return correct / float(len(actual)) * 100.0\n",
    "\n",
    "# Evaluate an algorithm using a cross validation split\n",
    "def evaluate_algorithm(dataset, algorithm, n_folds, *args, metric = rmse):\n",
    "    folds = cross_validation_split(dataset, n_folds)\n",
    "    scores = list()\n",
    "    for fold in folds:\n",
    "        train_set = list(folds)\n",
    "        train_set.remove(fold)\n",
    "        train_set = sum(train_set, [])  # concatenate lists of lists to a list\n",
    "        test_set = list()\n",
    "        for row in fold:\n",
    "            row_copy = list(row)\n",
    "            test_set.append(row_copy)\n",
    "            # test_set use to predict => no need to hold [class] data\n",
    "            row_copy[-1] = None\n",
    "        predicted = algorithm(train_set, test_set, *args)\n",
    "        actual = [row[-1] for row in fold]\n",
    "        accuracy = metric(actual, predicted)\n",
    "        scores.append(accuracy)\n",
    "    return scores"
   ]
  },
  {
   "cell_type": "code",
   "execution_count": 45,
   "metadata": {},
   "outputs": [
    {
     "name": "stdout",
     "output_type": "stream",
     "text": [
      "The last row convert from str to int\n",
      "# trees: 1\n",
      "======> Runned in 3.0230 seconds\n",
      "Root Mean Square Error: 0.300\n"
     ]
    },
    {
     "name": "stderr",
     "output_type": "stream",
     "text": [
      "/tmp/ipykernel_566/1847774017.py:31: UserWarning: Too few trees; some variables do not have OOB scores.\n",
      "  warnings.warn(\"Too few trees; some variables do not have OOB scores.\")\n"
     ]
    },
    {
     "name": "stdout",
     "output_type": "stream",
     "text": [
      "======> Runned in 0.6401 seconds\n",
      "OOB_r2_score: -0.493\n",
      "# trees: 5\n",
      "======> Runned in 15.7013 seconds\n",
      "Root Mean Square Error: 0.165\n",
      "======> Runned in 3.4775 seconds\n",
      "OOB_r2_score: -0.032\n",
      "# trees: 10\n",
      "======> Runned in 36.4092 seconds\n",
      "Root Mean Square Error: 0.136\n",
      "======> Runned in 7.6199 seconds\n",
      "OOB_r2_score: 0.307\n"
     ]
    }
   ],
   "source": [
    "seed(1)\n",
    "# load and prepare data\n",
    "filename = 'data/sonar.csv' # 0.017\n",
    "# filename = 'data/BankNote_Authentication.csv' # 0.232\n",
    "dataset = load_csv(filename)\n",
    "# remove the string attributes\n",
    "dataset.pop(0) \n",
    "\n",
    "# convert string attributes to float\n",
    "for i in range(len(dataset[0]) - 1):\n",
    "    str_column_to_float(dataset, i)\n",
    "\n",
    "# Check if the last row is not INT{0,1}\n",
    "if not isinstance(dataset[0][-1], int):\n",
    "    print(\"The last row convert from str to int\")\n",
    "    str_column_to_int(dataset, len(dataset[0])-1)\n",
    "\n",
    "n_folds = 5\n",
    "max_depth = 5\n",
    "min_size = 10\n",
    "n_trees = [1, 5, 10]\n",
    "n_features = round(sqrt(len(dataset[0]) - 1))\n",
    "sample_size = len(dataset)\n",
    "# (train_set, max_depth, min_size, n_features, n_trees, sample_size):\n",
    "for n_tree in n_trees:\n",
    "    print('# trees: %s' % n_tree)\n",
    "    tic = time.perf_counter()\n",
    "    scores = evaluate_algorithm(dataset, random_forest, n_folds, max_depth, min_size, n_features, n_tree, sample_size, 'std')\n",
    "    toc = time.perf_counter()\n",
    "    print(f\"======> Runned in {toc - tic:0.4f} seconds\")\n",
    "    \n",
    "    print('Root Mean Square Error: %.3f' % (sum(scores)/float(len(scores))))\n",
    "    tic = time.perf_counter()\n",
    "    oob_score = oob_classifier_r2_score(dataset, max_depth, min_size, n_features, n_tree, sample_size, 'std')\n",
    "    toc = time.perf_counter()\n",
    "    print(f\"======> Runned in {toc - tic:0.4f} seconds\")\n",
    "    print('OOB_r2_score: %.3f' % oob_score)"
   ]
  },
  {
   "cell_type": "markdown",
   "metadata": {
    "jp-MarkdownHeadingCollapsed": true,
    "tags": []
   },
   "source": [
    "## Conclusion\n",
    "\n",
    "Version 0.1: 20/09/2021\n",
    "* Add Out-of-bag(**oob**) error utilizing unsample data for cross-validation (NOT **k cross-validation**), this test is particularly used in `Random Forest` algorithms.\n",
    "* This OOB_score using **r2_score** function provide the indication of goodness of fit. Best possible score is 1.0, it can be negative (arbitrarily worse)\n",
    "* OOB_r2_score:\n",
    "    - -0.493 data/sonar.csv (1 tree)\n",
    "    - -0.032 data/sonar.csv (5 trees)\n",
    "    - 0.307 data/sonar.csv (10 trees)\n",
    "* RMSE:\n",
    "    - 0.300 data/sonar.csv (1 tree)\n",
    "    - 0.165 data/sonar.csv (5 trees)\n",
    "    - 0.136 data/sonar.csv (10 trees)\n",
    "    \n",
    "`Question`: Why the running time of RF regressor is very slow compared to that of RF classifier (x4)?\n",
    "    - Compute std, mae\n",
    "    - \n",
    "    - Compute R2_score"
   ]
  },
  {
   "cell_type": "markdown",
   "metadata": {
    "tags": []
   },
   "source": [
    "## Refs\n",
    "https://machinelearningmastery.com/implement-random-forest-scratch-python/\n",
    "\n",
    "https://www.ibm.com/cloud/learn/random-forest\n",
    "\n",
    "https://github.com/parrt/random-forest-importances/blob/master/src/rfpimp.py"
   ]
  }
 ],
 "metadata": {
  "interpreter": {
   "hash": "28f96ec01d3331ab2b5d4a1bb32d02e762004829634cea2cd2eeaefdb8bb653c"
  },
  "kernelspec": {
   "display_name": "Python 3",
   "language": "python",
   "name": "python3"
  },
  "language_info": {
   "codemirror_mode": {
    "name": "ipython",
    "version": 3
   },
   "file_extension": ".py",
   "mimetype": "text/x-python",
   "name": "python",
   "nbconvert_exporter": "python",
   "pygments_lexer": "ipython3",
   "version": "3.8.10"
  }
 },
 "nbformat": 4,
 "nbformat_minor": 4
}
