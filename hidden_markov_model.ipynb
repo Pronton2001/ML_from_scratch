{
 "cells": [
  {
   "cell_type": "markdown",
   "id": "fbef5824",
   "metadata": {},
   "source": [
    "# Hidden Markov Model\n",
    "\n",
    "Assumption:\n",
    "- $P(y_{t+1}|y_{t}, Z) = P(y_{t+1}|y_{t})$\n",
    "- $P(x_{t}|y_{t}, Z) = P(x_{t}|y_{t})$\n",
    "\n",
    "There are 3 kind of probabilities:\n",
    "- Transmission $P(y_{t+1}|y_{t})$ : likelihood of moving from one state to another state\n",
    "- Emission $P(x_t|y_t)$ :likelihood of observations given state\n",
    "- $\\pi$- initial state probability distribution.\n",
    "\n",
    "Forward Algorithm:\n",
    "\n",
    "$$ \\alpha_{t}(j) = P(x1, x2,..., x_t, y_t)\n",
    "= P(x_t|y_t)\\sum_{y_{t-1}}[P(y_t|y_{t-1})P(x1, x2,..., x_{t-1}, y_{t-1})] $$\n",
    "$$\n",
    "= P(x_t|y_t)\\sum_{y_{t-1}}[P(y_t|y_{t-1})\\alpha_{t-1}(j-1)]\n",
    "$$\n",
    "\n",
    "dimension($\\alpha_{t}(j)$) = (# hiddens x 1) = dimension($y_t$)\n",
    "\n",
    "dimension($x_t$) = (#observations x 1)\n",
    "\n",
    "$$ \\alpha_{0}(0) = P(x_0, y_0) = P(x_0|y_0)P(y_0) $$ \n",
    "\n",
    "P(x_0|y_0) and P(y_0) are intialized.\n",
    "\n",
    "$$ \\alpha_{1}(1) = P(x_0, x_1, y_1) = P(x_1|y_1) \\sum_{y_0}[P(y_1|y_0)\\alpha_{0}(0)$$\n",
    "..."
   ]
  },
  {
   "cell_type": "code",
   "execution_count": 8,
   "id": "30c09ad6",
   "metadata": {},
   "outputs": [],
   "source": [
    "import numpy as np"
   ]
  },
  {
   "cell_type": "code",
   "execution_count": 3,
   "id": "8a290b3f",
   "metadata": {},
   "outputs": [],
   "source": [
    "def HMM(T, E):\n",
    "    \"\"\"\n",
    "    Compute \n",
    "    \n",
    "    \"\"\"\n",
    "    pass\n",
    "def train(observations):\n",
    "    \"\"\"\n",
    "    Find what?\n",
    "    \"\"\"\n",
    "    pass\n",
    "\n",
    "def forward_initialize(E):\n",
    "    forward = []\n",
    "    # Asume no information before (actually we can find it) => P(y_0) = 1/len(E) for all states\n",
    "    P_y0 = 1/len(E.T)\n",
    "    forward.append(E*P_y0)\n",
    "    return forward\n",
    "\n",
    "def forward(new_seq, T, E):\n",
    "    \"\"\"\n",
    "    Return (o x h) array of likelihood of seq of hidden states )\n",
    "    \"\"\"\n",
    "    obs = int(new_seq[0]) - 1 # {1 2 3} -> {0 1 2} to store in array\n",
    "    forward = forward_initialize(E[obs]) # emission prob from all hidden states to observation [obs]\n",
    "    \n",
    "    for t in range(1, len(new_seq)):\n",
    "        # T.T : transpose of transmission -> T.T[j] = Transmit (i0,i1,..) -> j\n",
    "        Sum = [T.T[j].dot(forward[t-1]) for j in range(len(T))]\n",
    "        obser = int(new_seq[t]) - 1\n",
    "        alpha = Sum * E[obser] # element-wise product\n",
    "        forward.append(alpha)\n",
    "    return np.array(forward)\n",
    "\n",
    "def likelihood(new_seq, T, E):\n",
    "    \"\"\"\n",
    "    Args: \n",
    "        new_seq: (1 x o) observation\n",
    "        T: (dxd) trainsmission - T_{ij} = P(y_j|y_i)is likelihood \n",
    "            that state i move to state j\n",
    "        E: (d) emission - E_{ij} = P(x_j|y_i) is probability of \n",
    "            emitting j-th observation state from i-th hidden state\n",
    "    Return: (1 x h) array of maximum likelihood of seq of hidden states \n",
    "    \"\"\"\n",
    "    return np.argmax(forward(new_seq, T, E), axis = 1)"
   ]
  },
  {
   "cell_type": "code",
   "execution_count": 23,
   "id": "49e529b4",
   "metadata": {},
   "outputs": [
    {
     "data": {
      "text/plain": [
       "array([0, 2, 2])"
      ]
     },
     "execution_count": 23,
     "metadata": {},
     "output_type": "execute_result"
    }
   ],
   "source": [
    "emission = np.array([[0.7, 0, .3,.4], \n",
    "                     [0.2, 0.3,.4,.3], \n",
    "                     [0.1, 0.7,.3,.3]])\n",
    "\n",
    "transmission = np.array([[0, 0, 0, 0], \n",
    "                         [0.5, 0.8, 0.2, 0], \n",
    "                         [0.5, 0.1, 0.7, 0], \n",
    "                         [0, 0.1, 0.1, 0]])\n",
    "observations = ['2','3','3','2','3','2','3','2','2','3','1','3','3','1','1',\n",
    "        '1','2','1','1','1','3','1','2','1','1','1','2','3','3','2',\n",
    "        '3','2','2']\n",
    "# HMM(transmission, emission)\n",
    "# train(observations)\n",
    "new_seq = ['1', '2', '3']\n",
    "likelihood(new_seq, transmission, emission)"
   ]
  },
  {
   "cell_type": "markdown",
   "id": "46a554b6",
   "metadata": {},
   "source": [
    "## Refs\n",
    "https://github.com/aldengolab/hidden-markov-model"
   ]
  }
 ],
 "metadata": {
  "kernelspec": {
   "display_name": "Python 3",
   "language": "python",
   "name": "python3"
  },
  "language_info": {
   "codemirror_mode": {
    "name": "ipython",
    "version": 3
   },
   "file_extension": ".py",
   "mimetype": "text/x-python",
   "name": "python",
   "nbconvert_exporter": "python",
   "pygments_lexer": "ipython3",
   "version": "3.8.10"
  }
 },
 "nbformat": 4,
 "nbformat_minor": 5
}
