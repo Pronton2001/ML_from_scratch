{
 "cells": [
  {
   "cell_type": "markdown",
   "id": "fbef5824",
   "metadata": {
    "tags": []
   },
   "source": [
    "# Hidden Markov Model\n",
    "\n",
    "Assumption:\n",
    "- $P(y_{t+1}|y_{t}, Z) = P(y_{t+1}|y_{t})$\n",
    "- $P(x_{t}|y_{t}, Z) = P(x_{t}|y_{t})$\n",
    "\n",
    "There are 3 kind of probabilities:\n",
    "- Transmission $P(y_{t+1}|y_{t})$ : likelihood of moving from one state to another state\n",
    "- Emission $P(x_t|y_t)$ :likelihood of observations given state\n",
    "- $\\pi$- initial state probability distribution."
   ]
  },
  {
   "cell_type": "markdown",
   "id": "ddde4fba-941e-4689-9e02-7f12b471ceae",
   "metadata": {
    "tags": []
   },
   "source": [
    "## Forward Algorithm:\n",
    "\n",
    "$$ \\alpha_{t}(j) = P(x1, x2,..., x_t, y_t)\n",
    "= P(x_t|y_t)\\sum_{y_{t-1}}[P(y_t|y_{t-1})P(x1, x2,..., x_{t-1}, y_{t-1})] $$\n",
    "$$\n",
    "= P(x_t|y_t)\\sum_{y_{t-1}}[P(y_t|y_{t-1})\\alpha_{t-1}(j-1)]\n",
    "$$\n",
    "\n",
    "dimension($\\alpha_{t}(j)$) = (# hiddens x 1) = dimension($y_t$)\n",
    "\n",
    "dimension($x_t$) = (#observations x 1)\n",
    "\n",
    "$$ \\alpha_{0}(0) = P(x_0, y_0) = P(x_0|y_0)P(y_0) $$ \n",
    "\n",
    "P(x_0|y_0) and P(y_0) are intialized.\n",
    "\n",
    "$$ \\alpha_{1}(1) = P(x_0, x_1, y_1) = P(x_1|y_1) \\sum_{y_0}[P(y_1|y_0)\\alpha_{0}(0)$$\n",
    "...\n",
    "\n",
    "`Note`: In my code, I used T.T\\[i\\] and E\\[i\\]. \n",
    "* T.T\\[i\\]: the transmission probability P(y_t|y_{t-1}) from all hidden states to hidden state `i` (1xh)\n",
    "* E\\[i\\]: the emmision probability P(x_t|y_t) from all hidden states to observation `i` (1 x h)"
   ]
  },
  {
   "cell_type": "code",
   "execution_count": 1,
   "id": "30c09ad6",
   "metadata": {},
   "outputs": [],
   "source": [
    "import numpy as np"
   ]
  },
  {
   "cell_type": "code",
   "execution_count": 2,
   "id": "49e529b4",
   "metadata": {},
   "outputs": [],
   "source": [
    "transmission= np.array([[0.05, 0.05, \t0.7, \t0.2],\n",
    "                        [0.1,\t0.05,\t0.6,\t0.25],\n",
    "                        [0.1,\t0.3,\t0.4,\t0.2],\n",
    "                        [0.25,\t0.4,\t0.3,\t0.05]])\n",
    "emission = np.array([[0.3,\t0.4,\t0.2,\t0.3],\n",
    "                     [0.4,\t0.2,\t0.1,\t0.05],\n",
    "                     [0.2,\t0.1,\t0.2,\t0.3],\n",
    "                     [0.1,\t0.3,\t0.5,\t0.35]])\n",
    "\n",
    "observations = ['2','3','3','2','3','2','3','2','2','3','1','3','3','1','1',\n",
    "        '1','2','1','1','1','3','1','2','1','1','1','2','3','3','2',\n",
    "        '3','2','2']\n",
    "\n",
    "def str_to_index(name): # Simple convert\n",
    "        return list(map(lambda x: int(x) - 1, name))\n",
    "def index_to_str(idx):\n",
    "    return list(map(lambda x: str(x+1), idx))"
   ]
  },
  {
   "cell_type": "code",
   "execution_count": 3,
   "id": "8a290b3f",
   "metadata": {},
   "outputs": [
    {
     "name": "stdout",
     "output_type": "stream",
     "text": [
      "['2', '3', '3']\n"
     ]
    }
   ],
   "source": [
    "def HMM(T, E):\n",
    "    \"\"\"\n",
    "    Build model\n",
    "    \"\"\"\n",
    "    pass\n",
    "def train(observations):\n",
    "    \"\"\"\n",
    "    Find T and E\n",
    "    \"\"\"\n",
    "    pass\n",
    "\n",
    "def forward_initialize(E):# Asume no information before (actually we can find it) => P(y_0) = 1/len(E) for all states\n",
    "    forward = []\n",
    "    P_y0 = 1/len(E.T)\n",
    "    forward.append(E*P_y0)\n",
    "    return forward\n",
    "\n",
    "def forward(new_seq, T, E):\n",
    "    \"\"\"\n",
    "    Args: \n",
    "        new_seq: (1 x N) observation index\n",
    "        T: (h x h) trainsmission - T_{ij} = P(y_j|y_i)is likelihood \n",
    "            that state i move to state j\n",
    "        E: (o x h) emission - E_{ij} = P(x_j|y_i) is probability of \n",
    "            emitting j-th observation state from i-th hidden state\n",
    "    Return: (1 x N) array of likelihood of hidden states sequence\n",
    "    \"\"\"\n",
    "\n",
    "    obs = new_seq[0]\n",
    "    forward = forward_initialize(E[obs]) # initalize probability P(x0, y0)\n",
    "    \n",
    "    for t in range(1, len(new_seq)):\n",
    "        Sum = [T.T[j].dot(forward[t-1]) for j in range(len(T))]\n",
    "        obs = new_seq[t]\n",
    "        alpha = Sum * E[obs] \n",
    "        forward.append(alpha)\n",
    "    \n",
    "    # likelihood of seq of hidden states\n",
    "    best_hidden_seq = np.argmax(forward, axis = 1)\n",
    "    return best_hidden_seq\n",
    "new_seq = ['1', '1', '4']\n",
    "new_seq = str_to_index(new_seq)\n",
    "\n",
    "best_state_idx = forward(new_seq, transmission, emission)\n",
    "print(index_to_str(best_state_idx))"
   ]
  },
  {
   "cell_type": "markdown",
   "id": "f2abff78-c9a6-4553-8c64-a7624b745bc5",
   "metadata": {
    "tags": []
   },
   "source": [
    "## Viterbi Algorithm\n",
    "The most likely sequence $Y* = \\{y1, ..., y_T\\}$ given a sequence of observations $X = \\{x1, ..., x_T\\}$\n",
    "\n",
    "$$Y* = argmax_Y P(Y|X) = argmax_Y P(Y,X)$$\n",
    "\n",
    "$$\n",
    "\\begin{aligned}Viterbi(T) &= \\max_{y_{1:T}} p(y_1, ..., y_T, x_1, ..., x_T)=\\max_{y_T}\\max_{y_{1:T-1}} p(y_1, ..., y_T, x_1, ..., x_T)\\\\&=\\max_{y_T}\\max_{y_{1:T-1}} \\{p(x_T|y_T)p(y_T|y_{T-1})p(y_1, ..., y_{T-1}, x_1,..., x_{T-1})\\}\\\\&= \\max_{y_T}\\max_{y_{T-1}} \\{p(x_T|y_T)p(y_T|y_{T-1})\\max_{y_{1:T-2}}p(y_1, ..., y_{T-1}, x_1,..., x_{T-1})\\}\\\\ &=\\max_{y_T}\\max_{y_{T-1}} \\{p(x_T|y_T)p(y_T|y_{T-1})Viterbi(T-1)\\}\\end{aligned}$$\n"
   ]
  },
  {
   "cell_type": "code",
   "execution_count": 4,
   "id": "f2f38a58-aca0-4f0d-8d0f-aa23c9150ac9",
   "metadata": {},
   "outputs": [
    {
     "name": "stdout",
     "output_type": "stream",
     "text": [
      "['4', '2', '3', '3']\n"
     ]
    }
   ],
   "source": [
    "def viterbi_algorithm(new_seq, T, E):\n",
    "    \"\"\"\n",
    "    Args: \n",
    "        new_seq: (1 x N) index observation\n",
    "        T: (h x h) trainsmission - T_{ij} = P(y_j|y_i)is likelihood \n",
    "            that state i move to state j\n",
    "        E: (o x h) emission - E_{ij} = P(x_j|y_i) is probability of \n",
    "            emitting j-th observation state from i-th hidden state\n",
    "    Return:\n",
    "        (1 x N) array of likelihood of hidden states sequence\n",
    "    \"\"\"\n",
    "    \n",
    "    \n",
    "    obs_idx = new_seq[0]\n",
    "    max_viterbi = forward_initialize(E[obs_idx]) # initalize probability P(x0, y0)\n",
    "    viterbi = []\n",
    "\n",
    "    # Compute viterbi (o x h x h) and max_viterbi (o x h) \n",
    "    for t in range(1, len(new_seq)):\n",
    "        obs_idx = new_seq[t]\n",
    "        viterbi.append(np.array([max_viterbi[t-1]  # (1 x h)\n",
    "                                *T.T[i]            # (1 x h)\n",
    "                                *E[obs_idx][i]     # (1 x h)\n",
    "                                for i in range(len(T))\n",
    "                                ]))# (o x h x h)\n",
    "        max_viterbi.append(np.max(viterbi[t-1], axis = 1)) # (o x h)\n",
    "    \n",
    "    # Back tracking to find likelihood of seq of hidden states\n",
    "    best_hidden_seq = [np.argmax(max_viterbi[-1])]\n",
    "    for t in reversed(range(1, len(max_viterbi))):\n",
    "        argmax_viterbi = best_hidden_seq[-1]\n",
    "        best_hidden_seq.append(np.argmax(viterbi[t-1][argmax_viterbi]))\n",
    "    return [ele for ele in reversed(best_hidden_seq)]\n",
    "\n",
    "new_seq = ['1', '1', '3', '4']\n",
    "new_seq = str_to_index(new_seq)\n",
    "best_state_idx = viterbi_algorithm(new_seq, transmission, emission)\n",
    "print(index_to_str(best_state_idx))\n"
   ]
  },
  {
   "cell_type": "markdown",
   "id": "46a554b6",
   "metadata": {},
   "source": [
    "## Refs\n",
    "\n",
    "https://github.com/aldengolab/hidden-markov-model"
   ]
  }
 ],
 "metadata": {
  "kernelspec": {
   "display_name": "Python 3 (ipykernel)",
   "language": "python",
   "name": "python3"
  },
  "language_info": {
   "codemirror_mode": {
    "name": "ipython",
    "version": 3
   },
   "file_extension": ".py",
   "mimetype": "text/x-python",
   "name": "python",
   "nbconvert_exporter": "python",
   "pygments_lexer": "ipython3",
   "version": "3.9.6"
  }
 },
 "nbformat": 4,
 "nbformat_minor": 5
}
